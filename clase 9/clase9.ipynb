{
 "cells": [
  {
   "cell_type": "markdown",
   "metadata": {},
   "source": [
    "Ejercicio: Jerarquía de Vehículos. \n",
    "Define una clase base llamada Vehiculo con los siguientes atributos: ● nombre almacena el nombre del vehículo. \n",
    "● velocidad_maxima almacena la velocidad máxima en km/h. \n",
    "● capacidad_pasajeros almacena la capacidad de pasajeros. Crear dos clases derivadas que representen tipos de vehículos:\n",
    " ● Automovil: Debe heredar de Vehiculo. \n",
    " Agrega un atributo combustible (cadena) para indicar el tipo de combustible (por ejemplo, \"nafta\" o \"diésel\").\n",
    "  Bicicleta: Debe heredar de Vehiculo. Agrega un atributo tipo para indicar el tipo de bicicleta (por ejemplo, \"montaña\" o \"bmx\"). Agregar métodos a cada clase para que puedas obtener información sobre el vehículo. \n",
    "  Por ejemplo, crea un método llamado información queimprima los atributos del vehículo. Crear instancias de cada tipo de vehículo y utiliza sus métodos para imprimir información sobre ellos."
   ]
  },
  {
   "cell_type": "code",
   "execution_count": 3,
   "metadata": {},
   "outputs": [],
   "source": [
    "class Vehiculo:\n",
    "    def __init__(self,nombre,velocidad_max,cantidad_de_pasajero):\n",
    "        self.nombre = nombre\n",
    "        self.velocidad_max = velocidad_maxima\n",
    "        self.cantidad_de_pasajeros = cantidad_de_pasajeros\n",
    "        \n",
    "    def mostrar_vehiculo(self):\n",
    "        return (f\"el{self.nombre} ,la{self.velocidad_max} , y la {cantidad_de_pasajero}\")\n",
    "        \n",
    "        \n",
    "class Automovil(Vehiculo):\n",
    "    def __init__(self,nombre,velocidad_max,cantidad_de_pasajeros,combustible):\n",
    "        super().__init__(nombre,velocidad_max,cantidad_de_pasajeros) \n",
    "        self.combustible = combustible\n",
    "    \n",
    "    def mostrar_automovil(self) :\n",
    "        return(f\"y el tipo de combustible es:{self.combustible}\")   \n",
    "        \n",
    "class Bicicleta(Vehiculo):\n",
    "    def __init__(self,nombre,velocidad_max,cantidad_de_pasajeros,tipo_de_bicicleta):\n",
    "        super().__init__(nombre,velocidad_max,cantidad_de_pasajeros)\n",
    "        self.tipo_de_bicicleta = tipo_de_bicicleta\n",
    "        \n",
    "    def mostrar_bici(self):\n",
    "        return(f\"y es de tipo: {self.tipo_de_bicicleta}\")    \n",
    "        "
   ]
  },
  {
   "cell_type": "markdown",
   "metadata": {},
   "source": [
    "Ejercicio: Aplicación del polimorfismo\n",
    " Crea un programa que modele tres tipos de vehículos: automóviles, bicicletas y motocicletas.\n",
    "  Cada vehículo debe tener un método llamado \"desplazarse\" que imprime un mensaje indicando cómo se desplaza el vehículo.\n",
    "   Luego, crea instancias de cada tipo de vehículo y muestra cómo se desplazan. \n",
    "   Ejercicios de Práctica Crea una clase llamada \"CuentaBancaria\" que represente una cuenta deahorros.\n",
    "   \n",
    " La clase debe tener los siguientes atributos: \n",
    "● titular (cadena): El titular de la cuenta.\n",
    "● saldo (decimal): El saldo actual de la cuenta.\n",
    "● num_cuenta (cadena): El número de cuenta. La clase debe proporcionar los siguientes métodos públicos: \n",
    "● init (self, titular, saldo_inicial): Un constructor que inicializa la cuenta con el nombre del titular y un saldo inicial. ● depositar(self, monto): Un método que permite al titular de la cuenta depositar una cantidad en la cuenta.\n",
    "● extraer(self, monto): Un método que permite al titular de la cuenta retirar una cantidad de la cuenta, siempre y cuando haya saldo suficiente.\n",
    "● consultar_saldo(self): Un método que muestra el saldo actual de la cuenta."
   ]
  }
 ],
 "metadata": {
  "kernelspec": {
   "display_name": "Python 3",
   "language": "python",
   "name": "python3"
  },
  "language_info": {
   "codemirror_mode": {
    "name": "ipython",
    "version": 3
   },
   "file_extension": ".py",
   "mimetype": "text/x-python",
   "name": "python",
   "nbconvert_exporter": "python",
   "pygments_lexer": "ipython3",
   "version": "3.11.5"
  }
 },
 "nbformat": 4,
 "nbformat_minor": 2
}
