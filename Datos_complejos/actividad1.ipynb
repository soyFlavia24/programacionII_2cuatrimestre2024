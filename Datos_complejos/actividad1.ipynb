{
 "cells": [
  {
   "cell_type": "markdown",
   "metadata": {},
   "source": [
    "Actividad N° 1 🤓 "
   ]
  },
  {
   "cell_type": "markdown",
   "metadata": {},
   "source": [
    "1. Crear una lista que contenga nombres de provincias Argentinas, que contenga más de 5 elementos e imprimir por pantalla "
   ]
  },
  {
   "cell_type": "code",
   "execution_count": 7,
   "metadata": {},
   "outputs": [
    {
     "name": "stdout",
     "output_type": "stream",
     "text": [
      "['Cordoba', 'Mendoza', 'Tierra del Fuego', 'Chaco', 'San Luis', 'Jujuy']\n"
     ]
    }
   ],
   "source": [
    "provincias=[\"Cordoba\",\"Mendoza\",\"Tierra del Fuego\",\"Chaco\",\"San Luis\",\"Jujuy\"]\n",
    "print(provincias)"
   ]
  },
  {
   "cell_type": "markdown",
   "metadata": {},
   "source": [
    "2. Imprimir por pantalla el tercer elemento de la lista "
   ]
  },
  {
   "cell_type": "code",
   "execution_count": 8,
   "metadata": {},
   "outputs": [
    {
     "name": "stdout",
     "output_type": "stream",
     "text": [
      "En la lista de provincias,el tercer elemento es : Tierra del Fuego\n"
     ]
    }
   ],
   "source": [
    "print(\"En la lista de provincias,el tercer elemento es :\",provincias[2])\n"
   ]
  },
  {
   "cell_type": "code",
   "execution_count": 9,
   "metadata": {},
   "outputs": [
    {
     "name": "stdout",
     "output_type": "stream",
     "text": [
      "el cuarto elemento de la lista es:Chaco\n"
     ]
    }
   ],
   "source": [
    "print(f\"el cuarto elemento de la lista es:{provincias[3]}\")"
   ]
  },
  {
   "cell_type": "markdown",
   "metadata": {},
   "source": [
    "3. Imprimir por pantalla del segundo al cuarto elemento"
   ]
  },
  {
   "cell_type": "code",
   "execution_count": 10,
   "metadata": {},
   "outputs": [
    {
     "name": "stdout",
     "output_type": "stream",
     "text": [
      "Los elementos 2,3 y 4 de la lista provincias son: ['Mendoza', 'Tierra del Fuego', 'Chaco']\n"
     ]
    }
   ],
   "source": [
    "print(\"Los elementos 2,3 y 4 de la lista provincias son:\",provincias[1:4])"
   ]
  },
  {
   "cell_type": "markdown",
   "metadata": {},
   "source": [
    " 4. Mostrar el tipo de dato de la lista "
   ]
  },
  {
   "cell_type": "code",
   "execution_count": 11,
   "metadata": {},
   "outputs": [
    {
     "name": "stdout",
     "output_type": "stream",
     "text": [
      "La lista provincias es de tipo: <class 'list'>\n"
     ]
    }
   ],
   "source": [
    "print(\"La lista provincias es de tipo:\",type(provincias))"
   ]
  },
  {
   "cell_type": "markdown",
   "metadata": {},
   "source": [
    "5. Mostrar los primeros 4 elementos de la lista "
   ]
  },
  {
   "cell_type": "code",
   "execution_count": 12,
   "metadata": {},
   "outputs": [
    {
     "name": "stdout",
     "output_type": "stream",
     "text": [
      "Los primero cuatro elementos de la lista son: ['Cordoba', 'Mendoza', 'Tierra del Fuego', 'Chaco']\n"
     ]
    }
   ],
   "source": [
    "print(\"Los primero cuatro elementos de la lista son:\",provincias[:4])"
   ]
  },
  {
   "cell_type": "markdown",
   "metadata": {},
   "source": [
    "6. Agregar una provincia más a la lista que ya exista y otra que no. "
   ]
  },
  {
   "cell_type": "code",
   "execution_count": 13,
   "metadata": {},
   "outputs": [
    {
     "name": "stdout",
     "output_type": "stream",
     "text": [
      "['Cordoba', 'Mendoza', 'Tierra del Fuego', 'Chaco', 'San Luis', 'Jujuy', 'Santiago']\n"
     ]
    }
   ],
   "source": [
    "provincias.append(\"Santiago\")\n",
    "print(provincias)"
   ]
  },
  {
   "cell_type": "code",
   "execution_count": 14,
   "metadata": {},
   "outputs": [
    {
     "name": "stdout",
     "output_type": "stream",
     "text": [
      "['Cordoba', 'Mendoza', 'Tierra del Fuego', 'Chaco', 'San Luis', 'Jujuy', 'Santiago', 'Cordoba']\n"
     ]
    }
   ],
   "source": [
    "provincias.append(\"Cordoba\")\n",
    "print(provincias)"
   ]
  },
  {
   "cell_type": "markdown",
   "metadata": {},
   "source": [
    "7. Agregar una provincia, pero en la cuarta posición. "
   ]
  },
  {
   "cell_type": "code",
   "execution_count": 15,
   "metadata": {},
   "outputs": [
    {
     "name": "stdout",
     "output_type": "stream",
     "text": [
      "['Cordoba', 'Mendoza', 'Tierra del Fuego', 'Tucuman', 'Chaco', 'San Luis', 'Jujuy', 'Santiago', 'Cordoba']\n"
     ]
    }
   ],
   "source": [
    "provincias.insert(3,\"Tucuman\")\n",
    "print(provincias)"
   ]
  },
  {
   "cell_type": "markdown",
   "metadata": {},
   "source": [
    "8. Extender otra lista a la ya creada. \n",
    " "
   ]
  },
  {
   "cell_type": "code",
   "execution_count": 16,
   "metadata": {},
   "outputs": [
    {
     "name": "stdout",
     "output_type": "stream",
     "text": [
      "['Cordoba', 'Mendoza', 'Tierra del Fuego', 'Tucuman', 'Chaco', 'San Luis', 'Jujuy', 'Santiago', 'Cordoba', 'Mar de Plata', 'Tolhuin', 'Rio Grande']\n"
     ]
    }
   ],
   "source": [
    "ciudades=[\"Mar de Plata\",\"Tolhuin\",\"Rio Grande\"]\n",
    "provincias.extend(ciudades)\n",
    "print(provincias)"
   ]
  },
  {
   "cell_type": "markdown",
   "metadata": {},
   "source": [
    "9. Eliminar un elemento de la lista.\n"
   ]
  },
  {
   "cell_type": "code",
   "execution_count": 17,
   "metadata": {},
   "outputs": [
    {
     "data": {
      "text/plain": [
       "'Rio Grande'"
      ]
     },
     "execution_count": 17,
     "metadata": {},
     "output_type": "execute_result"
    }
   ],
   "source": [
    "provincias.pop()\n"
   ]
  },
  {
   "cell_type": "code",
   "execution_count": 18,
   "metadata": {},
   "outputs": [
    {
     "name": "stdout",
     "output_type": "stream",
     "text": [
      "['Cordoba', 'Mendoza', 'Tierra del Fuego', 'Tucuman', 'Chaco', 'San Luis', 'Jujuy', 'Santiago', 'Cordoba', 'Mar de Plata', 'Tolhuin']\n"
     ]
    }
   ],
   "source": [
    "print(provincias)"
   ]
  },
  {
   "cell_type": "code",
   "execution_count": 19,
   "metadata": {},
   "outputs": [
    {
     "data": {
      "text/plain": [
       "'Cordoba'"
      ]
     },
     "execution_count": 19,
     "metadata": {},
     "output_type": "execute_result"
    }
   ],
   "source": [
    "provincias.pop(0)"
   ]
  },
  {
   "cell_type": "code",
   "execution_count": 20,
   "metadata": {},
   "outputs": [
    {
     "name": "stdout",
     "output_type": "stream",
     "text": [
      "['Mendoza', 'Tierra del Fuego', 'Tucuman', 'Chaco', 'San Luis', 'Jujuy', 'Santiago', 'Cordoba', 'Mar de Plata', 'Tolhuin']\n"
     ]
    }
   ],
   "source": [
    "print(provincias)"
   ]
  },
  {
   "cell_type": "markdown",
   "metadata": {},
   "source": [
    "10.Extraer el último elemento de la lista, guardarlo en una variable e imprimirlo."
   ]
  },
  {
   "cell_type": "code",
   "execution_count": 21,
   "metadata": {},
   "outputs": [
    {
     "name": "stdout",
     "output_type": "stream",
     "text": [
      "['Mendoza', 'Tierra del Fuego', 'Tucuman', 'Chaco', 'San Luis', 'Jujuy', 'Santiago', 'Cordoba', 'Mar de Plata', 'Tolhuin']\n"
     ]
    }
   ],
   "source": [
    "print(provincias)"
   ]
  },
  {
   "cell_type": "code",
   "execution_count": 24,
   "metadata": {},
   "outputs": [],
   "source": [
    "ultima_provincia =provincias[len(provincias)-1]"
   ]
  },
  {
   "cell_type": "code",
   "execution_count": 26,
   "metadata": {},
   "outputs": [
    {
     "name": "stdout",
     "output_type": "stream",
     "text": [
      "el ultimo elemento en la lista provincias es : Tolhuin\n"
     ]
    }
   ],
   "source": [
    "print(\"el ultimo elemento en la lista provincias es :\",ultima_provincia)"
   ]
  },
  {
   "cell_type": "markdown",
   "metadata": {},
   "source": [
    "ultimo_elemento=provincias.pop()\n",
    "print(f\"El último elemento de la lista es: {ultimo_elemento}\")\n",
    "\n",
    "\n",
    "final= provincias{-1}\n",
    "print(final)\n"
   ]
  }
 ],
 "metadata": {
  "kernelspec": {
   "display_name": "Python 3",
   "language": "python",
   "name": "python3"
  },
  "language_info": {
   "codemirror_mode": {
    "name": "ipython",
    "version": 3
   },
   "file_extension": ".py",
   "mimetype": "text/x-python",
   "name": "python",
   "nbconvert_exporter": "python",
   "pygments_lexer": "ipython3",
   "version": "3.11.5"
  }
 },
 "nbformat": 4,
 "nbformat_minor": 2
}
