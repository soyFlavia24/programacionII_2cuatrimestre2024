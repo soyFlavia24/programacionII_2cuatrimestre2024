{
 "cells": [
  {
   "cell_type": "markdown",
   "metadata": {},
   "source": [
    "#Actividad N° 2         \n",
    " 1. Imprimir los números del 1 al 20 utilizando un bucle for \n",
    " "
   ]
  },
  {
   "cell_type": "code",
   "execution_count": 38,
   "metadata": {},
   "outputs": [
    {
     "name": "stdout",
     "output_type": "stream",
     "text": [
      "1\n",
      "2\n",
      "3\n",
      "4\n",
      "5\n",
      "6\n",
      "7\n",
      "8\n",
      "9\n",
      "10\n",
      "11\n",
      "12\n",
      "13\n",
      "14\n",
      "15\n",
      "16\n",
      "17\n",
      "18\n",
      "19\n",
      "20\n"
     ]
    }
   ],
   "source": [
    "for n in range(1,21):\n",
    "    print(n)"
   ]
  },
  {
   "cell_type": "markdown",
   "metadata": {},
   "source": [
    "2. Imprimir los números pares del 1 al 20 utilizando un bucle while \n",
    " "
   ]
  },
  {
   "cell_type": "code",
   "execution_count": 39,
   "metadata": {},
   "outputs": [
    {
     "name": "stdout",
     "output_type": "stream",
     "text": [
      "0\n",
      "2\n",
      "4\n",
      "6\n",
      "8\n",
      "10\n",
      "12\n",
      "14\n",
      "16\n",
      "18\n",
      "20\n"
     ]
    }
   ],
   "source": [
    "n = 0\n",
    "while n < 21 :\n",
    "      if n%2==0 :\n",
    "       print(n)\n",
    "      n = n+1"
   ]
  },
  {
   "cell_type": "markdown",
   "metadata": {},
   "source": [
    "3. Imprimir los números impares del 1 al 30 utilizando un bucle for \n",
    " "
   ]
  },
  {
   "cell_type": "code",
   "execution_count": 40,
   "metadata": {},
   "outputs": [
    {
     "name": "stdout",
     "output_type": "stream",
     "text": [
      "1\n",
      "3\n",
      "5\n",
      "7\n",
      "9\n",
      "11\n",
      "13\n",
      "15\n",
      "17\n",
      "19\n",
      "21\n",
      "23\n",
      "25\n",
      "27\n",
      "29\n"
     ]
    }
   ],
   "source": [
    "for b in range(0,31):\n",
    "    if b%2 != 0:\n",
    "        print( b)"
   ]
  },
  {
   "cell_type": "markdown",
   "metadata": {},
   "source": [
    "4. Ingresar un número por teclado y mostrar su tabla de multiplicar del 1 al 10. \n"
   ]
  },
  {
   "cell_type": "code",
   "execution_count": 41,
   "metadata": {},
   "outputs": [
    {
     "name": "stdout",
     "output_type": "stream",
     "text": [
      "3 x 1 = 3\n",
      "3 x 2 = 6\n",
      "3 x 3 = 9\n",
      "3 x 4 = 12\n",
      "3 x 5 = 15\n",
      "3 x 6 = 18\n",
      "3 x 7 = 21\n",
      "3 x 8 = 24\n",
      "3 x 9 = 27\n",
      "3 x 10 = 30\n"
     ]
    }
   ],
   "source": [
    "num=int(input(\"ingresa un numero\"))\n",
    "for i in range(1,11):\n",
    "    producto=num*i\n",
    "    print(f\"{num} x {i} = {producto}\")"
   ]
  },
  {
   "cell_type": "markdown",
   "metadata": {},
   "source": [
    "5. Imprimir los números del 1 al 100, para los múltiplos de 3, imprimir “múltiplo de 3”, para los múltiplos de 5 imprimir “múltiplo de 5” y para los múltiplos de 3 y de 5 imprimir “múltiplo de 3 y 5”.\n",
    "  "
   ]
  },
  {
   "cell_type": "code",
   "execution_count": 46,
   "metadata": {},
   "outputs": [
    {
     "name": "stdout",
     "output_type": "stream",
     "text": [
      "1\n",
      "2\n",
      "3 es múltiplo de 3\n",
      "4\n",
      "5 es múltiplo de 5\n",
      "6 es múltiplo de 3\n",
      "7\n",
      "8\n",
      "9 es múltiplo de 3\n",
      "10 es múltiplo de 5\n",
      "11\n",
      "12 es múltiplo de 3\n",
      "13\n",
      "14\n",
      "15 es múltiplo de 3 y 5\n",
      "16\n",
      "17\n",
      "18 es múltiplo de 3\n",
      "19\n",
      "20 es múltiplo de 5\n",
      "21 es múltiplo de 3\n",
      "22\n",
      "23\n",
      "24 es múltiplo de 3\n",
      "25 es múltiplo de 5\n",
      "26\n",
      "27 es múltiplo de 3\n",
      "28\n",
      "29\n",
      "30 es múltiplo de 3 y 5\n",
      "31\n",
      "32\n",
      "33 es múltiplo de 3\n",
      "34\n",
      "35 es múltiplo de 5\n",
      "36 es múltiplo de 3\n",
      "37\n",
      "38\n",
      "39 es múltiplo de 3\n",
      "40 es múltiplo de 5\n",
      "41\n",
      "42 es múltiplo de 3\n",
      "43\n",
      "44\n",
      "45 es múltiplo de 3 y 5\n",
      "46\n",
      "47\n",
      "48 es múltiplo de 3\n",
      "49\n",
      "50 es múltiplo de 5\n",
      "51 es múltiplo de 3\n",
      "52\n",
      "53\n",
      "54 es múltiplo de 3\n",
      "55 es múltiplo de 5\n",
      "56\n",
      "57 es múltiplo de 3\n",
      "58\n",
      "59\n",
      "60 es múltiplo de 3 y 5\n",
      "61\n",
      "62\n",
      "63 es múltiplo de 3\n",
      "64\n",
      "65 es múltiplo de 5\n",
      "66 es múltiplo de 3\n",
      "67\n",
      "68\n",
      "69 es múltiplo de 3\n",
      "70 es múltiplo de 5\n",
      "71\n",
      "72 es múltiplo de 3\n",
      "73\n",
      "74\n",
      "75 es múltiplo de 3 y 5\n",
      "76\n",
      "77\n",
      "78 es múltiplo de 3\n",
      "79\n",
      "80 es múltiplo de 5\n",
      "81 es múltiplo de 3\n",
      "82\n",
      "83\n",
      "84 es múltiplo de 3\n",
      "85 es múltiplo de 5\n",
      "86\n",
      "87 es múltiplo de 3\n",
      "88\n",
      "89\n",
      "90 es múltiplo de 3 y 5\n",
      "91\n",
      "92\n",
      "93 es múltiplo de 3\n",
      "94\n",
      "95 es múltiplo de 5\n",
      "96 es múltiplo de 3\n",
      "97\n",
      "98\n",
      "99 es múltiplo de 3\n",
      "100 es múltiplo de 5\n"
     ]
    }
   ],
   "source": [
    "for i in range(1, 101):\n",
    "    if i % 3 == 0 and i % 5 == 0:\n",
    "        print(f\"{i} es múltiplo de 3 y 5\")\n",
    "    elif i % 3 == 0:\n",
    "        print(f\"{i} es múltiplo de 3\")\n",
    "    elif i % 5 == 0:\n",
    "        print(f\"{i} es múltiplo de 5\")\n",
    "    else:\n",
    "        print(i)"
   ]
  },
  {
   "cell_type": "markdown",
   "metadata": {},
   "source": [
    "6. Ingresar un número por teclado e imprimir si es número primo o no. \n"
   ]
  },
  {
   "cell_type": "code",
   "execution_count": 8,
   "metadata": {},
   "outputs": [
    {
     "name": "stdout",
     "output_type": "stream",
     "text": [
      "el numero  3 no es primo\n"
     ]
    }
   ],
   "source": [
    "ingrese_numero1 = int(input(\"ingrse un numero por teclado\"))\n",
    "\n",
    "if ingrese_numero1 %1 == 0 and ingrese_numero1 == 0 :\n",
    "    \n",
    "     print(\"el numero \",ingrese_numero1,\"es primo \")\n",
    "else:\n",
    "         print(\"el numero \",ingrese_numero1,\"no es primo\" )"
   ]
  },
  {
   "cell_type": "markdown",
   "metadata": {},
   "source": [
    " 7. A partir de una lista vacía, utilizar un ciclo while para cargar allí números negativos del -20 al -1 "
   ]
  },
  {
   "cell_type": "code",
   "execution_count": 12,
   "metadata": {},
   "outputs": [
    {
     "name": "stdout",
     "output_type": "stream",
     "text": [
      "-20\n",
      "-19\n",
      "-18\n",
      "-17\n",
      "-16\n",
      "-15\n",
      "-14\n",
      "-13\n",
      "-12\n",
      "-11\n",
      "-10\n",
      "-9\n",
      "-8\n",
      "-7\n",
      "-6\n",
      "-5\n",
      "-4\n",
      "-3\n",
      "-2\n",
      "-1\n"
     ]
    }
   ],
   "source": [
    "numeros_negativos= list()\n",
    "for numeros_negativos in range(-20,0):\n",
    "    print(numeros_negativos)"
   ]
  },
  {
   "cell_type": "markdown",
   "metadata": {},
   "source": [
    "8. A partir de la variable cadena, mostrar en qué posiciones aparece la letra \"n\" cadena = 'Hola Politécnico. Esto es una práctica programación con Python'"
   ]
  },
  {
   "cell_type": "code",
   "execution_count": 21,
   "metadata": {},
   "outputs": [
    {
     "data": {
      "text/plain": [
       "12"
      ]
     },
     "execution_count": 21,
     "metadata": {},
     "output_type": "execute_result"
    }
   ],
   "source": [
    "cadena = 'Hola Politécnico. Esto es una práctica programación con Python'\n",
    "cadena.index(\"n\")"
   ]
  },
  {
   "cell_type": "markdown",
   "metadata": {},
   "source": [
    "9. Convertir en una lista la variable \"cadena\" del punto 10 y luego recorrerla con un iterador "
   ]
  },
  {
   "cell_type": "code",
   "execution_count": 28,
   "metadata": {},
   "outputs": [
    {
     "name": "stdout",
     "output_type": "stream",
     "text": [
      "[]\n",
      "<class 'list'>\n"
     ]
    }
   ],
   "source": [
    "cadena=list()\n",
    "print(cadena)\n",
    "print(type(cadena))\n"
   ]
  },
  {
   "cell_type": "markdown",
   "metadata": {},
   "source": [
    "10. A partir de la siguiente lista de números, crear una lista nueva sólo si el número es divisible por 5 lista1=[18,25,29,32,35,42,50,60,63,100] "
   ]
  },
  {
   "cell_type": "code",
   "execution_count": 61,
   "metadata": {},
   "outputs": [
    {
     "name": "stdout",
     "output_type": "stream",
     "text": [
      "18\n",
      "25\n",
      "29\n",
      "32\n",
      "35\n",
      "42\n",
      "50\n",
      "60\n",
      "63\n",
      "100\n"
     ]
    }
   ],
   "source": [
    "lista1=[18,25,29,32,35,42,50,60,63,100] \n",
    "\n",
    "for lista_nueva in lista1:\n",
    "     lista_nueva%5 == 0 and lista_nueva == 0\n",
    "     print(lista_nueva)\n",
    "           "
   ]
  },
  {
   "cell_type": "markdown",
   "metadata": {},
   "source": [
    "\n",
    "  \n",
    " \n",
    " \n",
    " \n",
    " 12. Imprimir los números del 10 al 1 utilizando un bucle while. 13.Imprimir los números del 1 al 30, no mostrando los que son múltiplos de 3"
   ]
  },
  {
   "cell_type": "markdown",
   "metadata": {},
   "source": [
    "11. Imprimir los números primos del 1 al 100 "
   ]
  },
  {
   "cell_type": "code",
   "execution_count": 70,
   "metadata": {},
   "outputs": [
    {
     "name": "stdout",
     "output_type": "stream",
     "text": [
      "False\n"
     ]
    }
   ],
   "source": [
    "\n",
    "for primos in range(1,101):\n",
    "    primos = primos  %1 == 0 and primos == 0 \n",
    "    \n",
    "print(primos)"
   ]
  }
 ],
 "metadata": {
  "kernelspec": {
   "display_name": "Python 3",
   "language": "python",
   "name": "python3"
  },
  "language_info": {
   "codemirror_mode": {
    "name": "ipython",
    "version": 3
   },
   "file_extension": ".py",
   "mimetype": "text/x-python",
   "name": "python",
   "nbconvert_exporter": "python",
   "pygments_lexer": "ipython3",
   "version": "3.11.5"
  }
 },
 "nbformat": 4,
 "nbformat_minor": 2
}
