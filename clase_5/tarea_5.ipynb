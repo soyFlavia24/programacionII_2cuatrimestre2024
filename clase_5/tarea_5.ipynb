{
 "cells": [
  {
   "cell_type": "markdown",
   "metadata": {},
   "source": [
    "1- Calculadora Simple: Crea un programa que solicite al usuario dos números y una operación (suma, resta, multiplicación o división). Luego, utilizando estructuras condicionales (if, elif, else), realiza la operación seleccionada e imprime el resultado."
   ]
  },
  {
   "cell_type": "code",
   "execution_count": 5,
   "metadata": {},
   "outputs": [
    {
     "name": "stdout",
     "output_type": "stream",
     "text": [
      "elige una operacion\n",
      "1.suma\n",
      "2.resta\n",
      "3.multiplicacion\n",
      "4.division\n",
      "el resultado de la suma es: 8\n"
     ]
    }
   ],
   "source": [
    "num_1= int(input(\"ingrese un numero: \"))\n",
    "num_2 = int(input(\"ingrese otro numero: \"))\n",
    "print(\"elige una operacion\")\n",
    "print(\"1.suma\")\n",
    "print(\"2.resta\")\n",
    "print(\"3.multiplicacion\")\n",
    "print(\"4.division\")\n",
    "\n",
    "suma = num_1 +num_2\n",
    "resta = num_1-num_2\n",
    "division = num_1/num_2\n",
    "multiplicacion= num_1*num_2\n",
    "operacion= input(\"ingresa una opcion(1/2/3/4):\")\n",
    "\n",
    "if operacion == \"1\":\n",
    "    resultado = num_1 + num_2\n",
    "    print(\"el resultado de la suma es:\",resultado)\n",
    "elif operacion == \"2\":\n",
    "    resultado = num_1 - num_2\n",
    "    print(\"el resultado de la resta es : \",resultado)\n",
    "elif operacion == \"3\":\n",
    "    resultado = num_1 * 1\n",
    "    num_2\n",
    "    print(\"el resultado de la multiplicacion es : \",resultado)  \n",
    "elif operacion == \"4\":\n",
    "    resultado = num_1 / num_2\n",
    "    print(\"el resultado de la division es : \",resultado)\n",
    "else :\n",
    "    print(\"operacion no valida\")"
   ]
  },
  {
   "cell_type": "markdown",
   "metadata": {},
   "source": [
    "Contador de Números Pares e Impares: Escribe un programa que recorra una lista de números del 1 al 20. Utilizando un bucle for, determina cuántos de estos números son pares y cuántos son impares. Al final, imprime la cantidad de números pares e impares."
   ]
  },
  {
   "cell_type": "code",
   "execution_count": 17,
   "metadata": {},
   "outputs": [
    {
     "name": "stdout",
     "output_type": "stream",
     "text": [
      "Pares: 10\n",
      "Impares: 10\n"
     ]
    }
   ],
   "source": [
    "\n",
    "pares = 0\n",
    "impares = 0\n",
    "for i in range(1, 21):\n",
    "    if  i % 2 == 0:\n",
    "        pares += 1\n",
    "    else :\n",
    "        impares +=1\n",
    "print(f'Pares: {pares}')\n",
    "print(f'Impares: {impares}')\n"
   ]
  },
  {
   "cell_type": "markdown",
   "metadata": {},
   "source": [
    "Validación de Contraseña: Pide al usuario que ingrese una contraseña. Utiliza un bucle while para seguir solicitando la contraseña hasta que coincida con una contraseña predefinida (por ejemplo, \"python123\"). Muestra un mensaje de éxito cuando la contraseña es correcta."
   ]
  },
  {
   "cell_type": "code",
   "execution_count": null,
   "metadata": {},
   "outputs": [
    {
     "name": "stdout",
     "output_type": "stream",
     "text": [
      "contraseña ncorrecta\n"
     ]
    }
   ],
   "source": [
    "contraseña_correcta = \"python123\"\n",
    "ingrese_contraseña= input(\"ingrese contraseña:\")\n",
    "\n",
    "while ingrese_contraseña != contraseña_correcta:\n",
    "           print(\"contraseña incorrecta\")\n",
    "           ingrese_contraseña = input(\"ingrese contraseña\")\n",
    "else:\n",
    "        print(\"contraseña ingresada con exito\")  \n",
    "        "
   ]
  },
  {
   "cell_type": "markdown",
   "metadata": {},
   "source": [
    "Identificador de Números Primos: Crea un programa que solicite al usuario un número entero. Utilizando un bucle for, verifica si el número es primo (es decir, solo divisible por 1 y por sí mismo). Imprime un mensaje indicando si el número es primo o no.\n"
   ]
  },
  {
   "cell_type": "code",
   "execution_count": 3,
   "metadata": {},
   "outputs": [
    {
     "name": "stdout",
     "output_type": "stream",
     "text": [
      "el numero  3 no es primo \n"
     ]
    }
   ],
   "source": [
    "num_p= int(input(\"introduce un numero entero\"))\n",
    "for m in range(1,num_p):\n",
    "    if m %1 == 0 and m == 0 :\n",
    "    \n",
    "     print(\"el numero \",num_p,\"es primo \")\n",
    "    \n",
    "else:\n",
    "    \n",
    "    print(\"el numero \",num_p,\"no es primo \")\n",
    "\n",
    "    \n",
    "    "
   ]
  },
  {
   "cell_type": "markdown",
   "metadata": {},
   "source": [
    "Juego de Adivinanza: Genera un número aleatorio entre 1 y 50. Pide al usuario que adivine el número. Utiliza un bucle while para permitir múltiples intentos. Da pistas al usuario si el número ingresado es demasiado alto o bajo. Finaliza el juego cuando el usuario adivine correctamente."
   ]
  },
  {
   "cell_type": "code",
   "execution_count": 4,
   "metadata": {},
   "outputs": [
    {
     "name": "stdout",
     "output_type": "stream",
     "text": [
      "no es el numero,intenta uno mas alto\n",
      "no es el numero,intenta uno mas bajo\n",
      "adivinaste\n"
     ]
    }
   ],
   "source": [
    "numero_correcto = \"5\"\n",
    "ingrese_numero= input(\"ingrese numero:\")\n",
    "\n",
    "while  ingrese_numero != numero_correcto :\n",
    "  \n",
    "         if ingrese_numero < numero_correcto :\n",
    "           print(\"no es el numero,intenta uno mas alto\")\n",
    "           ingrese_numero= input(\"ingrese numero:\")\n",
    "           \n",
    "           \n",
    "             \n",
    "         elif  ingrese_numero > numero_correcto :\n",
    "           print(\"no es el numero,intenta uno mas bajo\")\n",
    "           ingrese_numero= input(\"ingrese numero:\")\n",
    "else :\n",
    "      print(\"adivinaste\")"
   ]
  },
  {
   "cell_type": "markdown",
   "metadata": {},
   "source": [
    "Tabla de Multiplicar: Pide al usuario que ingrese un número entero. Utiliza un bucle for para imprimir la tabla de multiplicar de ese número del 1 al 10. Por ejemplo, si el usuario ingresa 7, el programa debe imprimir:\n",
    "\n"
   ]
  },
  {
   "cell_type": "code",
   "execution_count": 20,
   "metadata": {},
   "outputs": [
    {
     "name": "stdout",
     "output_type": "stream",
     "text": [
      "7 x 1 = 7\n",
      "7 x 2 = 14\n",
      "7 x 3 = 21\n",
      "7 x 4 = 28\n",
      "7 x 5 = 35\n",
      "7 x 6 = 42\n",
      "7 x 7 = 49\n",
      "7 x 8 = 56\n",
      "7 x 9 = 63\n",
      "7 x 10 = 70\n"
     ]
    }
   ],
   "source": [
    "num=int(input(\"ingresa un numero\"))\n",
    "for i in range(1,11):\n",
    "    producto=num*i\n",
    "    print(f\"{num} x {i} = {producto}\")"
   ]
  }
 ],
 "metadata": {
  "kernelspec": {
   "display_name": "Python 3",
   "language": "python",
   "name": "python3"
  },
  "language_info": {
   "codemirror_mode": {
    "name": "ipython",
    "version": 3
   },
   "file_extension": ".py",
   "mimetype": "text/x-python",
   "name": "python",
   "nbconvert_exporter": "python",
   "pygments_lexer": "ipython3",
   "version": "3.11.5"
  }
 },
 "nbformat": 4,
 "nbformat_minor": 2
}
