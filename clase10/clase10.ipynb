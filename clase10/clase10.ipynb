{
 "cells": [
  {
   "cell_type": "markdown",
   "metadata": {},
   "source": [
    "Actividad Ejercicio 1: Implementar un sistema de pagos que incluya las siguientes clases: ● Empleado: clase base con el método calcular_salario().● EmpleadoAsalariado: hereda de Empleado e implementa el método calcular_salario() considerando un salario fijo. ● EmpleadoPorHoras: hereda de Empleado e implementa el método calcular_salario() considerando el número de horas trabajadas y la tarifa por hora. ● EmpleadoComision: hereda de Empleado e implementa el método calcular_salario() considerando un salario base y una comisión por ventas. Crea una lista de empleados de diferentes tipos y utiliza el polimorfismo para calcular el salario de cada uno llamando al método calcular_salario(). Ejercicio 2: Crear una clase llamada CalculadoraExponencial que calcule el resultado de elevar un número a una potencia dada utilizando un ciclo. La clase debe tener los siguientes métodos: ● init (self, base, potencia): Este método debe inicializar la base y la potencia. ● calcular_exponenciacion(): Este método debe calcular el resultado de elevar la base a la potencia sin utilizar el operador de exponenciación (**). Ejercicio 3: Crear una clase llamada ConversorUnidades que convierta una cantidad en una unidad de medida a otra unidad de medida. La clase debe tener los siguientes métodos: ● init (self): Este método debe inicializar la clase. ● convertir_kilometros_a_millas(self, kilometros): Este método debe recibir una cantidad en kilómetros y devolver la cantidad equivalenteen millas. ● convertir_celsius_a_fahrenheit(self, celsius): Este método debe recibir una temperatura en grados Celsius y devolver la temperatura equivalente en grados Fahrenheit. Ejercicio 4: Están desarrollando una aplicación de gestión de inventario para una tienda y necesitan crear una clase llamada Producto que represente un producto en el inventario. Cada producto tiene un nombre, un precio unitario y una cantidad en stock. La clase Producto debe tener los siguientes métodos: ● init (self,nombre, precio, stock): Este método debe inicializar un producto con su nombre, precio y stock disponibles. ● verificar_disponibilidad(self, cantidad_requerida): Este método debe recibir la cantidad requerida de un producto y verificar si hay suficiente stock para satisfacer esa cantidad. Debe devolver un mensaje que indique si el producto está disponible en la cantidad requerida o si no hay suficiente stock. Ejercicio 5: Crea un sistema para gestionar una biblioteca que incluya las siguientes clases: ● Publicacion: clase base que contiene información común como título y autor.● Libro: hereda de Publicacion e incluye atributos específicos como ISBN y número de páginas. ● Revista: hereda de Publicacion e incluye atributos específicos como volumen y número. Implementar métodos en cada clase para mostrar la información relevante de cada tipo de publicación. Luego, crea una lista de diferentes publicaciones y muestra la información de cada una."
   ]
  }
 ],
 "metadata": {
  "language_info": {
   "name": "python"
  }
 },
 "nbformat": 4,
 "nbformat_minor": 2
}
