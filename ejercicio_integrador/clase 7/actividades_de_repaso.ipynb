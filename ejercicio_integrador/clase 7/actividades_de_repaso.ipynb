{
 "cells": [
  {
   "cell_type": "markdown",
   "metadata": {},
   "source": [
    "Actividades Prácticas: \n",
    "1. Ejercicio de Listas: o Crear una lista de 10 números enteros. Escribir una función que devuelva la suma de todos los números en la lista.\n",
    "2. Ejercicio de Tuplas: o Definir una tupla con 5 nombres de ciudades. Escribir una función que imprima cada ciudad en una línea separada. \n",
    "3. Ejercicio de Diccionarios: o Crear un diccionario que contenga información sobre un libro (título, autor, año de publicación). Escribir una función que imprima la información del libro de manera formateada.\n",
    "4. Ejercicio de Control de Flujo: o Escribir un programa que pida al usuario un número y use un bucle for para imprimir todos los números desde 1 hasta ese número. Usar break para salir del bucle si se ingresa un número negativo.\n",
    "5. Ejercicio de Números Pares: o Crear una función que reciba una lista de números y devuelva una nueva lista que contenga solo los números pares. Utilizar continue para omitir los números impares. \n",
    "6. Ejercicio de Contador: o Escribir un programa que cuente cuántos números positivos y negativos hay en una lista dada. Utilizar un bucle for y condicionales.\n",
    "7. Ejercicio de Tuplas y Listas: o Crear una lista de tuplas, donde cada tupla contenga el nombre de un estudiante y su calificación. Escribir una función que devuelva el nombre del estudiante con la calificación más alta.\n",
    "8. Ejercicio de Diccionarios Anidados: o Crear un diccionario que contenga información sobre varios estudiantes (nombre, edad, materias). Escribir una función que imprima el nombre y las materias de cada estudiante. \n",
    "9. Ejercicio de Búsqueda: o Escribir un programa que pida al usuario un número y busque si está en una lista de números. Si el número está, imprimir su índice; si no, imprimir un mensaje indicando que no se encontró. \n",
    "10. Gestión de Repositorios: o Crear un nuevo repositorio en GitHub y clonar el repositorio en VSCode. Realizar cambios en un archivo, hacer commit y push de los cambios al repositorio remoto. Documentar el proceso en un archivo README. "
   ]
  },
  {
   "cell_type": "code",
   "execution_count": 5,
   "metadata": {},
   "outputs": [],
   "source": [
    "#1. Ejercicio de Listas: o Crear una lista de 10 números enteros. \n",
    "# Escribir una función que devuelva la suma de todos los números en la lista.\n",
    "\n",
    "numeros_enteros =[10,20,30,40,50,60,70,80,90,100]\n",
    "def  suma_numeros(numeros) : \n",
    "    suma = 0\n",
    "    for i in numeros:\n",
    "        suma = suma + 1\n",
    "        \n",
    "    return suma"
   ]
  },
  {
   "cell_type": "code",
   "execution_count": 8,
   "metadata": {},
   "outputs": [
    {
     "name": "stdout",
     "output_type": "stream",
     "text": [
      "10\n"
     ]
    }
   ],
   "source": [
    "sumas = suma_numeros(numeros_enteros)\n",
    "print(sumas)"
   ]
  },
  {
   "cell_type": "code",
   "execution_count": 22,
   "metadata": {},
   "outputs": [],
   "source": [
    "#2. Ejercicio de Tuplas: o Definir una tupla con 5 nombres de ciudades.\n",
    "#  Escribir una  función que imprima cada ciudad en una línea separada.\n",
    "\n",
    "ciudades=(\"cordoba\",\"Merlo\",\"Tolhuin\",\"Rio Grande\",\"Ushuahia\")\n",
    "def ver_ciudades(ciudad):\n",
    "    for i in ciudad:\n",
    "        print(i)"
   ]
  },
  {
   "cell_type": "code",
   "execution_count": 23,
   "metadata": {},
   "outputs": [
    {
     "name": "stdout",
     "output_type": "stream",
     "text": [
      "cordoba\n",
      "Merlo\n",
      "Tolhuin\n",
      "Rio Grande\n",
      "Ushuahia\n"
     ]
    }
   ],
   "source": [
    "ver_ciudades(ciudades)"
   ]
  },
  {
   "cell_type": "code",
   "execution_count": 26,
   "metadata": {},
   "outputs": [],
   "source": [
    "#2. Ejercicio de Tuplas: o Definir una tupla con 5 nombres de ciudades.\n",
    "#  Escribir una  función que imprima cada ciudad en una línea separada. \n",
    "ciudades=(\"cordoba\",\"Merlo\",\"Tolhuin\",\"Rio Grande\",\"Ushuahia\")\n",
    "def mostrar_ciudades(ciudad):\n",
    "    for i in ciudad :\n",
    "        print(i)\n",
    "    \n",
    "    "
   ]
  },
  {
   "cell_type": "code",
   "execution_count": 14,
   "metadata": {},
   "outputs": [
    {
     "name": "stdout",
     "output_type": "stream",
     "text": [
      "cordoba\n",
      "Merlo\n",
      "Tolhuin\n",
      "Rio Grande\n",
      "Ushuahia\n"
     ]
    }
   ],
   "source": [
    "mostrar_ciudades(ciudades)"
   ]
  },
  {
   "cell_type": "code",
   "execution_count": 24,
   "metadata": {},
   "outputs": [],
   "source": [
    "#3. Ejercicio de Diccionarios: o Crear un diccionario que contenga i\n",
    "# nformación sobre un libro (título, autor, año de publicación).\n",
    "#Escribir una función que imprima la información del libro de manera formateada.\n",
    "\n",
    "libro={\"titulo\":\"Malbec\",\n",
    "       \"autor\":\"J.Thomson\",\n",
    "       \"año_publicacion\":1998}"
   ]
  },
  {
   "cell_type": "code",
   "execution_count": 30,
   "metadata": {},
   "outputs": [],
   "source": [
    "def info_libro(libros):\n",
    "    for i in libros:\n",
    "       print(i,\":\",libros[i])"
   ]
  },
  {
   "cell_type": "code",
   "execution_count": 31,
   "metadata": {},
   "outputs": [
    {
     "name": "stdout",
     "output_type": "stream",
     "text": [
      "titulo : Malbec\n",
      "autor : J.Thomson\n",
      "año_publicacion : 1998\n"
     ]
    }
   ],
   "source": [
    "info_libro(libro)"
   ]
  },
  {
   "cell_type": "code",
   "execution_count": 35,
   "metadata": {},
   "outputs": [],
   "source": [
    "#4. Ejercicio de Control de Flujo: o Escribir un programa que pida al usuario un número y\n",
    "#  use un bucle for para imprimir todos los números desde 1 hasta ese número. \n",
    "# Usar break para salir del bucle si se ingresa un número negativo.\n",
    "\n",
    "ingrese_num=int(input(\"ingrese un numero\"))\n",
    "for i in range(1,ingrese_num+1):\n",
    "    if i < 0:\n",
    "        break\n",
    "    else:\n",
    "         print(i)\n",
    "    "
   ]
  },
  {
   "cell_type": "code",
   "execution_count": 56,
   "metadata": {},
   "outputs": [],
   "source": [
    "#5. Ejercicio de Números Pares: o Crear una función que reciba una lista de números \n",
    "# y devuelva una nueva lista que contenga solo los números pares. \n",
    "# Utilizar continue para omitir los números impares. \n",
    "numeros=[10,20,35,46,57,68,59]\n",
    "def lista_pares(lista1):\n",
    "    pares=[]\n",
    "    for i in lista1:\n",
    "        if i%2 == 0:\n",
    "            pares.append(i)\n",
    "        else:\n",
    "            continue\n",
    "    return pares"
   ]
  },
  {
   "cell_type": "code",
   "execution_count": 57,
   "metadata": {},
   "outputs": [
    {
     "name": "stdout",
     "output_type": "stream",
     "text": [
      "[10, 20, 46, 68]\n"
     ]
    }
   ],
   "source": [
    "mostrar_pares=lista_pares(numeros)\n",
    "print(mostrar_pares)"
   ]
  },
  {
   "cell_type": "code",
   "execution_count": 4,
   "metadata": {},
   "outputs": [
    {
     "name": "stdout",
     "output_type": "stream",
     "text": [
      "la cantidad de negativos es 2 y la cantidad de positivos es:7\n"
     ]
    }
   ],
   "source": [
    "#6. Ejercicio de Contador: o Escribir un programa que cuente cuántos números positivos y \n",
    "# negativos hay en una lista dada. Utilizar un bucle for y condicionales.\n",
    "numeros2=[10,20,-34,35,46,-22,57,68,59]\n",
    "negativos=[]\n",
    "positivos=[]\n",
    "for i in  numeros2:\n",
    "    if i < 0:\n",
    "        negativos.append(i)\n",
    "    else:\n",
    "        positivos.append(i)\n",
    "print(f\"la cantidad de negativos es {len(negativos)} y la cantidad de positivos es:{len(positivos)}\")"
   ]
  },
  {
   "cell_type": "code",
   "execution_count": 6,
   "metadata": {},
   "outputs": [
    {
     "name": "stdout",
     "output_type": "stream",
     "text": [
      "la cantidad de negativos es 2 y la cantidad de positivos es:7\n"
     ]
    }
   ],
   "source": [
    "#6. Ejercicio de Contador: o Escribir un programa que cuente cuántos números positivos y \n",
    "# negativos hay en una lista dada. Utilizar un bucle for y condicionales.\n",
    "numeros2=[10,20,-34,35,46,-22,57,68,59]\n",
    "negativos= 0\n",
    "positivos= 0\n",
    "for i in  numeros2:\n",
    "    if i < 0:\n",
    "        negativos +=1\n",
    "    else:\n",
    "        positivos +=1\n",
    "print(f\"la cantidad de negativos es {negativos} y la cantidad de positivos es:{positivos}\")"
   ]
  },
  {
   "cell_type": "code",
   "execution_count": 38,
   "metadata": {},
   "outputs": [],
   "source": [
    "#7. Ejercicio de Tuplas y Listas: o Crear una lista de tuplas, donde cada tupla contenga \n",
    "# el nombre de un estudiante y su calificación.\n",
    "# Escribir una función que devuelva el nombre del estudiante con la calificación más alta.\n",
    "notas_estudiantes= [(\"julian\",9),(\"bruno\",8),(\"juan\",10)]\n",
    "\n",
    "\n",
    "def calificacion_mas_alta(lista) :\n",
    "    calificacion_mas_alta1 = 0\n",
    "    for  i in notas_estudiantes :\n",
    "        if  i[1] > calificacion_mas_alta1 :\n",
    "            calificacion_mas_alta1= i[1]\n",
    "    return calificacion_mas_alta1\n",
    "    \n",
    "    \n",
    "\n"
   ]
  },
  {
   "cell_type": "code",
   "execution_count": 39,
   "metadata": {},
   "outputs": [
    {
     "name": "stdout",
     "output_type": "stream",
     "text": [
      "10\n"
     ]
    }
   ],
   "source": [
    "calificaciones_max=calificacion_mas_alta(notas_estudiantes)\n",
    "print(calificaciones_max)"
   ]
  },
  {
   "cell_type": "code",
   "execution_count": 47,
   "metadata": {},
   "outputs": [],
   "source": [
    "#7. Ejercicio de Tuplas y Listas: o Crear una lista de tuplas, donde cada tupla contenga \n",
    "# el nombre de un estudiante y su calificación.\n",
    "# Escribir una función que devuelva el nombre del estudiante con la calificación más alta.\n",
    "notas_estudiantes= [(\"julian\",9),(\"bruno\",8),(\"juan\",10)]\n",
    "\n",
    "\n",
    "def calificacion_mas_alta_1(lista) :\n",
    "    calificacion_mas_alta1 = 0\n",
    "    nombre_estudiante = \"\"\n",
    "    for  i,j in lista:\n",
    "        if  j > calificacion_mas_alta1 :\n",
    "            calificacion_mas_alta1= j\n",
    "            nombre_estudiante= i\n",
    "    return nombre_estudiante,calificacion_mas_alta1\n",
    "    \n",
    "    \n",
    "\n"
   ]
  },
  {
   "cell_type": "code",
   "execution_count": 48,
   "metadata": {},
   "outputs": [
    {
     "data": {
      "text/plain": [
       "('juan', 10)"
      ]
     },
     "execution_count": 48,
     "metadata": {},
     "output_type": "execute_result"
    }
   ],
   "source": [
    "calificacion_mas_alta_1(notas_estudiantes)"
   ]
  },
  {
   "cell_type": "code",
   "execution_count": 51,
   "metadata": {},
   "outputs": [],
   "source": [
    "#8. Ejercicio de Diccionarios Anidados: o Crear un diccionario que contenga \n",
    "# información sobre varios estudiantes (nombre, edad, materias). Escribir una función que \n",
    "# imprima el nombre y las materias de cada estudiante. \n",
    "dicc_estudiantes =  {\"nombre\": \"juan\",\n",
    "               \"edad\": 20,\n",
    "               \"materias\":[\"matematicas\", \"ingles\", \"fisica\"],\n",
    "               \"nombre\": \"pedro\",\n",
    "               \"edad\": 22,\n",
    "               \"materias\": [\"matematicas\", \"fisica\"],\n",
    "                \"nombre\": \"daniela\",\n",
    "               \"edad\": 22,\n",
    "               \"materias\": [\"matematicas\", \"lengua\",\"fisica\"]}\n",
    "            "
   ]
  },
  {
   "cell_type": "code",
   "execution_count": 27,
   "metadata": {},
   "outputs": [],
   "source": [
    "def nombre_materia(lista):\n",
    "    for i ,j in dicc_estudiantes:\n",
    "        nombre= i\n",
    "        materia = j\n",
    "    \n",
    "        \n",
    "    return i,j"
   ]
  },
  {
   "cell_type": "code",
   "execution_count": 28,
   "metadata": {},
   "outputs": [
    {
     "ename": "NameError",
     "evalue": "name 'dicc_estudiantes' is not defined",
     "output_type": "error",
     "traceback": [
      "\u001b[1;31m---------------------------------------------------------------------------\u001b[0m",
      "\u001b[1;31mNameError\u001b[0m                                 Traceback (most recent call last)",
      "Cell \u001b[1;32mIn[28], line 1\u001b[0m\n\u001b[1;32m----> 1\u001b[0m datos_alumno \u001b[38;5;241m=\u001b[39m nombre_materia(\u001b[43mdicc_estudiantes\u001b[49m)\n\u001b[0;32m      2\u001b[0m \u001b[38;5;28mprint\u001b[39m(datos_alumno)\n",
      "\u001b[1;31mNameError\u001b[0m: name 'dicc_estudiantes' is not defined"
     ]
    }
   ],
   "source": [
    "datos_alumno = nombre_materia(dicc_estudiantes)\n",
    "print(datos_alumno)"
   ]
  },
  {
   "cell_type": "code",
   "execution_count": 70,
   "metadata": {},
   "outputs": [
    {
     "name": "stdout",
     "output_type": "stream",
     "text": [
      "no se encontro\n",
      "no se encontro\n",
      "no se encontro\n",
      "3\n",
      "no se encontro\n",
      "no se encontro\n",
      "no se encontro\n",
      "no se encontro\n",
      "no se encontro\n"
     ]
    }
   ],
   "source": [
    "#9. Ejercicio de Búsqueda: o Escribir un programa que pida al usuario un número y busque \n",
    "# si está en una lista de números. Si el número está, imprimir su índice; si no,\n",
    "#  imprimir un mensaje indicando que no se encontró. \n",
    "num_ingresado = int(input(\"ingrese un numero\"))\n",
    "numeros2=[10,20,-34,35,46,-22,57,68,59]\n",
    "for i in numeros2:\n",
    "    if i == num_ingresado:\n",
    "        print(numeros2.index(i))\n",
    "    else:\n",
    "        print(\"no se encontro\")"
   ]
  },
  {
   "cell_type": "code",
   "execution_count": null,
   "metadata": {},
   "outputs": [],
   "source": [
    "#10. Gestión de Repositorios: o Crear un nuevo repositorio en GitHub y clonar el \n",
    "# repositorio en VSCode. Realizar cambios en un archivo, hacer commit y push de los cambios \n",
    "# al repositorio remoto. Documentar el proceso en un archivo README"
   ]
  }
 ],
 "metadata": {
  "kernelspec": {
   "display_name": "Python 3",
   "language": "python",
   "name": "python3"
  },
  "language_info": {
   "codemirror_mode": {
    "name": "ipython",
    "version": 3
   },
   "file_extension": ".py",
   "mimetype": "text/x-python",
   "name": "python",
   "nbconvert_exporter": "python",
   "pygments_lexer": "ipython3",
   "version": "3.11.5"
  }
 },
 "nbformat": 4,
 "nbformat_minor": 2
}
