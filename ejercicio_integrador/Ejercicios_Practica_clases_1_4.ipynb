{
 "cells": [
  {
   "cell_type": "markdown",
   "metadata": {},
   "source": [
    "# <span style=\"color:blue; text-decoration:underline;\">Ejercicios de repaso Clase 1 a 4</span>\n",
    "\n",
    "## Descripción\n",
    "En este conjunto de ejercicios, vamos a repasar los conceptos de **datos complejos** en Python, incluyendo **listas**, **tuplas** y **diccionarios**. Además, es fundamental que practiquemos el uso de **Git y GitHub** para gestionar el código de manera eficiente. Los puntos clave a dominar son:\n",
    "\n",
    "- Creación de repositorios.\n",
    "- Uso de comandos básicos como `commit`, `pull`, `push`, `fetch`.\n",
    "- Creación y manejo de ramas.\n",
    "- Interacción con la IA a través de **Blackbox AI** para obtener asistencia y optimizar el proceso de codificación.\n",
    "\n",
    "Estos ejercicios te permitirán desarrollar habilidades tanto en la manipulación de estructuras de datos como en el control de versiones.\n",
    "\n",
    "---\n",
    "\n",
    "## Ejercicios\n",
    "\n",
    "1. **Listas**: Crea una lista de 5 frutas y agrega una fruta más al final de la lista usando el método adecuado.\n",
    "   \n",
    "2. **Listas**: Usa el método para eliminar el tercer elemento de una lista de números enteros: `[10, 20, 30, 40, 50]`.\n",
    "\n",
    "3. **Listas**: Dada una lista de nombres, ordena los elementos en orden alfabético.\n",
    "\n",
    "4. **Tuplas**: Crea una tupla con 4 ciudades y utiliza un método para contar cuántas veces aparece una ciudad específica en la tupla.\n",
    "\n",
    "5. **Tuplas**: Obtén el índice de un elemento dentro de una tupla: `('rojo', 'verde', 'azul', 'amarillo')`.\n",
    "\n",
    "6. **Diccionarios**: Crea un diccionario con tres pares clave-valor: nombre, edad, ciudad. Luego, añade un nuevo par clave-valor para incluir el país.\n",
    "\n",
    "7. **Diccionarios**: Dado un diccionario de estudiantes y sus notas: `{'Juan': 8, 'Ana': 9, 'Luis': 7}`, actualiza la nota de \"Luis\" a 10.\n",
    "\n",
    "8. **Listas**: Dada una lista de números `[2, 4, 6, 8, 10]`, usa un método para insertar el número 5 entre el 4 y el 6.\n",
    "\n",
    "9. **Diccionarios**: Crea un diccionario con tres películas y sus años de estreno. Usa el método para obtener solo las claves (los nombres de las películas).\n",
    "\n",
    "10. **Listas**: Dada una lista de colores `['rojo', 'azul', 'verde']`, usa un método para duplicar los elementos de la lista.\n",
    "\n",
    "---\n",
    "\n",
    "## Recomendaciones para Git y GitHub\n",
    "\n",
    "- **Crear un repositorio**: Inicia un nuevo proyecto en GitHub.\n",
    "- **Realizar commits**: Asegúrate de hacer un `commit` por cada cambio significativo en tu código.\n",
    "- **Sincronización remota**: Utiliza `pull`, `push` y `fetch` para mantener el repositorio local y remoto sincronizados.\n",
    "- **Ramas**: Crea y administra ramas (`branch`) para trabajar en características nuevas o correcciones sin alterar el código principal.\n",
    "- **Blackbox AI**: Aprovecha la herramienta **Blackbox AI** para generar sugerencias de código y resolver dudas técnicas.\n",
    "\n",
    "¡Buena suerte con los ejercicios!"
   ]
  },
  {
   "cell_type": "code",
   "execution_count": 1,
   "metadata": {},
   "outputs": [],
   "source": [
    "#1. **Listas**: Crea una lista de 5 frutas y agrega una fruta más al final de la lista usando el método adecuado.\n",
    "   \n",
    "frutas=[\"banana\",\"manzana\",\"pera\",\"melon\",\"sandia\"]\n",
    "frutas.append(\"naranja\")"
   ]
  },
  {
   "cell_type": "code",
   "execution_count": 2,
   "metadata": {},
   "outputs": [
    {
     "data": {
      "text/plain": [
       "30"
      ]
     },
     "execution_count": 2,
     "metadata": {},
     "output_type": "execute_result"
    }
   ],
   "source": [
    "#2. **Listas**: Usa el método para eliminar el tercer elemento de una lista de números enteros: `[10, 20, 30, 40, 50]\n",
    "\n",
    "numeros=[10,20,30,40,50]\n",
    "numeros.pop(2)"
   ]
  },
  {
   "cell_type": "code",
   "execution_count": 6,
   "metadata": {},
   "outputs": [
    {
     "name": "stdout",
     "output_type": "stream",
     "text": [
      "['Hugo', 'Martin', 'Natalia', 'Norma']\n"
     ]
    }
   ],
   "source": [
    "#3. **Listas**: Dada una lista de nombres, ordena los elementos en orden alfabético.\n",
    "nombres = [\"Norma\",\"Hugo\",\"Martin\",\"Natalia\"]\n",
    "nombres.sort()\n",
    "print(nombres)"
   ]
  },
  {
   "cell_type": "code",
   "execution_count": 8,
   "metadata": {},
   "outputs": [
    {
     "name": "stdout",
     "output_type": "stream",
     "text": [
      "1\n"
     ]
    }
   ],
   "source": [
    "#4. **Tuplas**: Crea una tupla con 4 ciudades y utiliza un método para contar cuántas veces aparece una ciudad específica en la tupla.\n",
    "\n",
    "\n",
    "ciudades=(\"Cordoba\",\"Ushuahia\",\"Vietma\",\"Bariloche\")\n",
    "print(ciudades.count(\"Ushuahia\"))\n",
    "\n",
    "\n"
   ]
  },
  {
   "cell_type": "code",
   "execution_count": 9,
   "metadata": {},
   "outputs": [
    {
     "name": "stdout",
     "output_type": "stream",
     "text": [
      "1\n"
     ]
    }
   ],
   "source": [
    "print(ciudades.count(\"Cordoba\"))"
   ]
  },
  {
   "cell_type": "code",
   "execution_count": 10,
   "metadata": {},
   "outputs": [],
   "source": [
    "#5. **Tuplas**: Obtén el índice de un elemento dentro de una tupla: `('rojo', 'verde', 'azul', 'amarillo')`.\n",
    "\n",
    "color=(\"rojo\",\"verde\",\"azul\",\"amarillo\")"
   ]
  },
  {
   "cell_type": "code",
   "execution_count": 11,
   "metadata": {},
   "outputs": [
    {
     "data": {
      "text/plain": [
       "0"
      ]
     },
     "execution_count": 11,
     "metadata": {},
     "output_type": "execute_result"
    }
   ],
   "source": [
    "color.index(\"rojo\")"
   ]
  },
  {
   "cell_type": "code",
   "execution_count": 15,
   "metadata": {},
   "outputs": [],
   "source": [
    "#6. **Diccionarios**: Crea un diccionario con tres pares clave-valor: nombre, edad, ciudad. Luego, añade un nuevo par clave-valor para incluir el país.\n",
    "persona={\"nombre\":\"Lautaro\",\n",
    "         \"edad\":18,\n",
    "         \"ciudad\" : \"Rio Grande\"}"
   ]
  },
  {
   "cell_type": "code",
   "execution_count": 18,
   "metadata": {},
   "outputs": [
    {
     "name": "stdout",
     "output_type": "stream",
     "text": [
      "{'nombre': 'Lautaro', 'edad': 18, 'ciudad': 'Rio Grande', 'Pais': 'Argentina'}\n"
     ]
    }
   ],
   "source": [
    "persona[\"Pais\"]=\"Argentina\"\n",
    "print(persona)"
   ]
  },
  {
   "cell_type": "code",
   "execution_count": 19,
   "metadata": {},
   "outputs": [],
   "source": [
    "#7. **Diccionarios**: Dado un diccionario de estudiantes y sus notas: `{'Juan': 8, 'Ana': 9, 'Luis': 7}`, actualiza la nota de \"Luis\" a 10.}\n",
    "estudiante_notas={\"Juan\":8, 'Ana': 9, 'Luis': 7}"
   ]
  },
  {
   "cell_type": "code",
   "execution_count": 20,
   "metadata": {},
   "outputs": [
    {
     "name": "stdout",
     "output_type": "stream",
     "text": [
      "{'Juan': 8, 'Ana': 9, 'Luis': 7, 'luis': 10}\n"
     ]
    }
   ],
   "source": [
    "estudiante_notas[\"luis\"]= 10\n",
    "print(estudiante_notas)"
   ]
  },
  {
   "cell_type": "code",
   "execution_count": 27,
   "metadata": {},
   "outputs": [],
   "source": [
    "#8. **Listas**: Dada una lista de números `[2, 4, 6, 8, 10]`, usa un método para insertar el número 5 entre el 4 y el 6.\n",
    "\n",
    "números =[2, 4, 6, 8, 10]"
   ]
  },
  {
   "cell_type": "code",
   "execution_count": 28,
   "metadata": {},
   "outputs": [
    {
     "name": "stdout",
     "output_type": "stream",
     "text": [
      "[2, 4, 6, 6, 8, 10]\n"
     ]
    }
   ],
   "source": [
    "números.insert(3,6)\n",
    "print(números)"
   ]
  },
  {
   "cell_type": "code",
   "execution_count": 29,
   "metadata": {},
   "outputs": [],
   "source": [
    "#9. **Diccionarios**: Crea un diccionario con tres películas y sus años de estreno. Usa el método para obtener solo las claves (los nombres de las películas).\n",
    "\n",
    "peliculas={\"titanic\":2000,\n",
    "           \"Cars\":2001,\n",
    "           \"Toy Story\":2002}"
   ]
  },
  {
   "cell_type": "code",
   "execution_count": 30,
   "metadata": {},
   "outputs": [
    {
     "data": {
      "text/plain": [
       "dict_keys(['titanic', 'Cars', 'Toy Story'])"
      ]
     },
     "execution_count": 30,
     "metadata": {},
     "output_type": "execute_result"
    }
   ],
   "source": [
    "peliculas.keys()"
   ]
  },
  {
   "cell_type": "code",
   "execution_count": 32,
   "metadata": {},
   "outputs": [],
   "source": [
    "#10. **Listas**: Dada una lista de colores `['rojo', 'azul', 'verde']`, usa un método para duplicar los elementos de la lista.\n",
    "colores=['rojo', 'azul', 'verde']\n",
    "colores_duplicados=colores.copy()\n"
   ]
  },
  {
   "cell_type": "code",
   "execution_count": 34,
   "metadata": {},
   "outputs": [
    {
     "name": "stdout",
     "output_type": "stream",
     "text": [
      "['rojo', 'azul', 'verde']\n"
     ]
    }
   ],
   "source": [
    "print(colores_duplicados)"
   ]
  },
  {
   "cell_type": "markdown",
   "metadata": {},
   "source": [
    "## Ejercicios\n",
    "\n",
    "\n",
    "   \n",
    ".\n",
    "\n",
    "\n",
    "\n",
    "\n",
    "\n",
    "\n",
    "\n",
    "\n",
    "\n",
    "\n",
    "\n",
    ".\n",
    "\n",
    "\n",
    "\n"
   ]
  },
  {
   "cell_type": "code",
   "execution_count": 3,
   "metadata": {},
   "outputs": [],
   "source": [
    "#1. **Listas**: Crea una lista de 5 frutas y agrega una fruta más al final de la lista\n",
    "#  usando el método adecuado.\n",
    "\n",
    "frutas=[\"pera\",\"manzana\",\"kiwi\",\"naranja\",\"banana\"]\n",
    "frutas.append(\"uva\")"
   ]
  },
  {
   "cell_type": "code",
   "execution_count": 4,
   "metadata": {},
   "outputs": [
    {
     "name": "stdout",
     "output_type": "stream",
     "text": [
      "['pera', 'manzana', 'kiwi', 'naranja', 'banana', 'uva']\n"
     ]
    }
   ],
   "source": [
    "print(frutas)"
   ]
  },
  {
   "cell_type": "code",
   "execution_count": 5,
   "metadata": {},
   "outputs": [
    {
     "data": {
      "text/plain": [
       "'kiwi'"
      ]
     },
     "execution_count": 5,
     "metadata": {},
     "output_type": "execute_result"
    }
   ],
   "source": [
    "#2.**Listas**: Usa el método para eliminar el tercer elemento de una \n",
    "# lista de números enteros: `[10, 20, 30, 40, 50]`\n",
    "\n",
    "frutas.pop(2)"
   ]
  },
  {
   "cell_type": "code",
   "execution_count": 9,
   "metadata": {},
   "outputs": [
    {
     "data": {
      "text/plain": [
       "30"
      ]
     },
     "execution_count": 9,
     "metadata": {},
     "output_type": "execute_result"
    }
   ],
   "source": [
    "numeros = [10,20,30,40,50]\n",
    "numeros.pop(2)"
   ]
  },
  {
   "cell_type": "code",
   "execution_count": 19,
   "metadata": {},
   "outputs": [
    {
     "name": "stdout",
     "output_type": "stream",
     "text": [
      "['Bruno', 'Flavia', 'Juan', 'Lautaro']\n"
     ]
    }
   ],
   "source": [
    "#3. **Listas**: Dada una lista de nombres, ordena los elementos en orden alfabético.\n",
    "nombres=[\"Flavia\",\"Juan\",\"Lautaro\",\"Bruno\"]\n",
    "nombres.sort()\n",
    "print(nombres)\n"
   ]
  },
  {
   "cell_type": "code",
   "execution_count": 22,
   "metadata": {},
   "outputs": [
    {
     "data": {
      "text/plain": [
       "1"
      ]
     },
     "execution_count": 22,
     "metadata": {},
     "output_type": "execute_result"
    }
   ],
   "source": [
    "#4. **Tuplas**: Crea una tupla con 4 ciudades y utiliza un método para contar \n",
    "# cuántas veces aparece una ciudad específica en la tupla.\n",
    "\n",
    "ciudades=(\"Cordoba\",\"Rio Grande\",\"Tolhuin\",\"Vietma\")\n",
    "ciudades.count(\"Cordoba\")"
   ]
  },
  {
   "cell_type": "code",
   "execution_count": 24,
   "metadata": {},
   "outputs": [
    {
     "data": {
      "text/plain": [
       "1"
      ]
     },
     "execution_count": 24,
     "metadata": {},
     "output_type": "execute_result"
    }
   ],
   "source": [
    "#5. **Tuplas**: Obtén el índice de un elemento dentro de una \n",
    "# tupla: `('rojo', 'verde', 'azul', 'amarillo')`.\n",
    "colores =(\"rojo\",\"verde\",\"azul\",\"amarillo\")\n",
    "colores.index(\"verde\")"
   ]
  },
  {
   "cell_type": "code",
   "execution_count": 28,
   "metadata": {},
   "outputs": [],
   "source": [
    "#6. **Diccionarios**: Crea un diccionario con tres pares clave-valor: nombre, edad, ciudad. \n",
    "# Luego, añade un nuevo par clave-valor para incluir el país.\n",
    "persona ={\"nombre\":\"Juan\",\n",
    "          \"edad\" :44,\n",
    "          \"ciudad\":\"Rio grande\"}"
   ]
  },
  {
   "cell_type": "code",
   "execution_count": 30,
   "metadata": {},
   "outputs": [
    {
     "name": "stdout",
     "output_type": "stream",
     "text": [
      "{'nombre': 'Juan', 'edad': 44, 'ciudad': 'Rio grande', 'Pais': 'Argentina'}\n"
     ]
    }
   ],
   "source": [
    "persona[\"Pais\"]=\"Argentina\"\n",
    "print(persona)"
   ]
  },
  {
   "cell_type": "code",
   "execution_count": 34,
   "metadata": {},
   "outputs": [
    {
     "name": "stdout",
     "output_type": "stream",
     "text": [
      "{'Juan': 8, 'Ana': 9, 'luis': 10}\n"
     ]
    }
   ],
   "source": [
    "#7. **Diccionarios**: Dado un diccionario de estudiantes y sus notas: `{'Juan': 8, 'Ana': 9, 'Luis': 7}`, \n",
    "# actualiza la nota de \"Luis\" a 10.\n",
    "\n",
    "notas= {\"Juan\":8,\n",
    "        \"Ana\":9,\n",
    "         \"luis\":7}\n",
    "\n",
    "notas[\"luis\"]=10\n",
    "print(notas)"
   ]
  },
  {
   "cell_type": "code",
   "execution_count": 39,
   "metadata": {},
   "outputs": [],
   "source": [
    "#8. **Listas**: Dada una lista de números `[2, 4, 6, 8, 10]`, \n",
    "# usa un método para insertar el número 5 entre el 4 y el 6\n",
    "numeros = [2,4,6,8,10]"
   ]
  },
  {
   "cell_type": "code",
   "execution_count": 40,
   "metadata": {},
   "outputs": [
    {
     "name": "stdout",
     "output_type": "stream",
     "text": [
      "[2, 4, 5, 6, 8, 10]\n"
     ]
    }
   ],
   "source": [
    "numeros.insert(2,5)\n",
    "print(numeros)"
   ]
  },
  {
   "cell_type": "code",
   "execution_count": 41,
   "metadata": {},
   "outputs": [],
   "source": [
    "#9. **Diccionarios**: Crea un diccionario con tres películas y sus años de estreno. \n",
    "# Usa el método para obtener solo las claves (los nombres de las películas).\n",
    "\n",
    "peliculas={\"Madagascar\":2007,\n",
    "           \"Cars\":2010,\n",
    "           \"Lobizon\":1997}"
   ]
  },
  {
   "cell_type": "code",
   "execution_count": 46,
   "metadata": {},
   "outputs": [
    {
     "data": {
      "text/plain": [
       "dict_keys(['Madagascar', 'Cars', 'Lobizon'])"
      ]
     },
     "execution_count": 46,
     "metadata": {},
     "output_type": "execute_result"
    }
   ],
   "source": [
    "peliculas.keys()"
   ]
  },
  {
   "cell_type": "code",
   "execution_count": 47,
   "metadata": {},
   "outputs": [],
   "source": [
    "#10. **Listas**: Dada una lista de colores `['rojo', 'azul', 'verde']`,\n",
    "#  usa un método para duplicar los elementos de la lista.\n",
    "\n",
    "colores=[\"rojo\",\"azul\",\"verde\"]"
   ]
  },
  {
   "cell_type": "code",
   "execution_count": 49,
   "metadata": {},
   "outputs": [
    {
     "name": "stdout",
     "output_type": "stream",
     "text": [
      "['rojo', 'azul', 'verde']\n"
     ]
    }
   ],
   "source": [
    "colores_2=colores.copy()\n",
    "print(colores_2)"
   ]
  },
  {
   "cell_type": "code",
   "execution_count": 4,
   "metadata": {},
   "outputs": [],
   "source": [
    "## calcular el promedio de una lista de numeros\n",
    "\n",
    "\n",
    "def calcular_promedio(lista_numero):\n",
    "    return sum(lista_numeros)/len(lista_numeros)\n"
   ]
  },
  {
   "cell_type": "code",
   "execution_count": null,
   "metadata": {},
   "outputs": [],
   "source": []
  }
 ],
 "metadata": {
  "kernelspec": {
   "display_name": "Python 3",
   "language": "python",
   "name": "python3"
  },
  "language_info": {
   "codemirror_mode": {
    "name": "ipython",
    "version": 3
   },
   "file_extension": ".py",
   "mimetype": "text/x-python",
   "name": "python",
   "nbconvert_exporter": "python",
   "pygments_lexer": "ipython3",
   "version": "3.11.5"
  }
 },
 "nbformat": 4,
 "nbformat_minor": 2
}
