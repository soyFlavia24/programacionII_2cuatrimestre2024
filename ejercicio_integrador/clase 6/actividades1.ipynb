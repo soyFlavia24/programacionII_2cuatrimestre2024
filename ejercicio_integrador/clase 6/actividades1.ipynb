{
 "cells": [
  {
   "cell_type": "markdown",
   "metadata": {},
   "source": [
    "Actividad N° 1 🤓 1. Crear una función llamada “usuario” que reciba como parámetro un nombre y devuelva un mensaje “Bienvenido al sistema {nombre}”. 2. llamar a la función “usuario” 3. Escribe una función que tome dos números como argumentos y devuelva su suma. 4. Crea una función que reciba dos números y una operación (suma, resta, multiplicación, división) y devuelva el resultado. 5. Conversor de moneda: Crea una función que convierta de pesos a dólares, que reciba como parámetro la cantidad de pesos y el valor del dólar y devuelva la cantidad de dólares. 6. Escribe una función que tome una lista de números como argumento y devuelva la suma de los números positivos y la suma de losnúmeros negativos en una tupla. 7. Crear una función que reciba un número como parámetro y devuelva True si es primo y False si no lo es. 8. Escribe una función que tome una lista de números como argumento y devuelva el número más grande y el número más pequeño en una tupla"
   ]
  },
  {
   "cell_type": "code",
   "execution_count": 1,
   "metadata": {},
   "outputs": [],
   "source": [
    "##funciones \n",
    "# crear funcion:\n",
    "\n",
    "def saludo():\n",
    "    print(\"Hola alumnos de programacion II\")"
   ]
  },
  {
   "cell_type": "code",
   "execution_count": 2,
   "metadata": {},
   "outputs": [
    {
     "name": "stdout",
     "output_type": "stream",
     "text": [
      "Hola alumnos de programacion II\n"
     ]
    }
   ],
   "source": [
    "#llamar funcion\n",
    "## la funcion se llama poniendo el nombre de la funcion y los parentesis\n",
    "saludo()"
   ]
  },
  {
   "cell_type": "code",
   "execution_count": 6,
   "metadata": {},
   "outputs": [],
   "source": [
    "def saludo1(nombre,apellido,edad):\n",
    "    print(\"bienvenido al sistema\" ,nombre,apellido, \"de edad\",edad,\"años\")"
   ]
  },
  {
   "cell_type": "code",
   "execution_count": 7,
   "metadata": {},
   "outputs": [
    {
     "name": "stdout",
     "output_type": "stream",
     "text": [
      "bienvenido al sistema Flavia Sanchez de edad 47 años\n"
     ]
    }
   ],
   "source": [
    "saludo1(\"Flavia\",\"Sanchez\",47)"
   ]
  },
  {
   "cell_type": "code",
   "execution_count": 8,
   "metadata": {},
   "outputs": [
    {
     "name": "stdout",
     "output_type": "stream",
     "text": [
      "bienvenido al sistema Juan Escobar de edad 44 años\n"
     ]
    }
   ],
   "source": [
    "saludo1(\"Juan\",\"Escobar\",44)"
   ]
  },
  {
   "cell_type": "code",
   "execution_count": 14,
   "metadata": {},
   "outputs": [],
   "source": [
    "#tipos de datos explicitos para los parametros\n",
    "def operacion1(num,num1):\n",
    "    return num * num1\n",
    "\n"
   ]
  },
  {
   "cell_type": "code",
   "execution_count": 1,
   "metadata": {},
   "outputs": [],
   "source": [
    "##funciones recursivas\n",
    "##esta funcion se llama a si misma\n",
    "def sumar_recursivo(elemento,acumulador=0):\n",
    "    if elemento == 0:\n",
    "        return acumulador\n",
    "    else:\n",
    "        acumulador += elemento\n",
    "        return sumar_recursivo(elemento-1,acumulador)"
   ]
  },
  {
   "cell_type": "code",
   "execution_count": 4,
   "metadata": {},
   "outputs": [
    {
     "data": {
      "text/plain": [
       "21"
      ]
     },
     "execution_count": 4,
     "metadata": {},
     "output_type": "execute_result"
    }
   ],
   "source": [
    "sumar_recursivo(6)"
   ]
  },
  {
   "cell_type": "code",
   "execution_count": 5,
   "metadata": {},
   "outputs": [
    {
     "data": {
      "text/plain": [
       "30"
      ]
     },
     "execution_count": 5,
     "metadata": {},
     "output_type": "execute_result"
    }
   ],
   "source": [
    "##funciones lambda\n",
    "lambda x: x**2\n",
    "numero_x_3 = lambda x:x*3\n",
    "\n",
    "numero_x_3(10)\n"
   ]
  },
  {
   "cell_type": "code",
   "execution_count": 6,
   "metadata": {},
   "outputs": [],
   "source": [
    "#funciones dentro de funciones\n",
    "#python permite que una funcion devuelva otra funcion\n",
    "#tambien permite definir funciones dentro de funciones\n",
    "#(encapsulamiento de funciones)\n",
    "def telefono_con_prefijo(prefijo_pais):\n",
    "    def f_telefono(numero_telefono):\n",
    "        return f\"{prefijo_pais}{numero_telefono}\"\n",
    "    return f_telefono"
   ]
  },
  {
   "cell_type": "code",
   "execution_count": 7,
   "metadata": {},
   "outputs": [
    {
     "data": {
      "text/plain": [
       "'542964612490'"
      ]
     },
     "execution_count": 7,
     "metadata": {},
     "output_type": "execute_result"
    }
   ],
   "source": [
    "telefono_argentina= telefono_con_prefijo(54)\n",
    "telefono_argentina(2964612490)\n"
   ]
  },
  {
   "cell_type": "markdown",
   "metadata": {},
   "source": [
    "Actividad N° 1 🤓  . 5. Conversor de moneda: Crea una función que convierta de pesos a dólares, que reciba como parámetro la cantidad de pesos y el valor del dólar y devuelva la cantidad de dólares. 6. Escribe una función que tome una lista de números como argumento y devuelva la suma de los números positivos y la suma de losnúmeros negativos en una tupla. 7. Crear una función que reciba un número como parámetro y devuelva True si es primo y False si no lo es. 8. Escribe una función que tome una lista de números como argumento y devuelva el número más grande y el número más pequeño en una tupla"
   ]
  },
  {
   "cell_type": "code",
   "execution_count": 10,
   "metadata": {},
   "outputs": [],
   "source": [
    " ##1. Crear una función llamada “usuario” que reciba como parámetro un nombre y devuelva un mensaje\n",
    " #  “Bienvenido al sistema {nombre}”.\n",
    "\n",
    "def usuario(nombre):\n",
    "    print(\"bienvenido al sitema\",nombre)"
   ]
  },
  {
   "cell_type": "code",
   "execution_count": 12,
   "metadata": {},
   "outputs": [
    {
     "name": "stdout",
     "output_type": "stream",
     "text": [
      "bienvenido al sitema Flavia\n"
     ]
    }
   ],
   "source": [
    " #2. llamar a la función “usuario”\n",
    "usuario(\"Flavia\")"
   ]
  },
  {
   "cell_type": "code",
   "execution_count": 3,
   "metadata": {},
   "outputs": [],
   "source": [
    "#3. Escribe una función que tome dos números como parametros y devuelva su suma.\n",
    "\n",
    "def suma(num,num1):\n",
    "    return num + num1"
   ]
  },
  {
   "cell_type": "code",
   "execution_count": 4,
   "metadata": {},
   "outputs": [
    {
     "data": {
      "text/plain": [
       "9"
      ]
     },
     "execution_count": 4,
     "metadata": {},
     "output_type": "execute_result"
    }
   ],
   "source": [
    "suma(7,2)"
   ]
  },
  {
   "cell_type": "code",
   "execution_count": 8,
   "metadata": {},
   "outputs": [
    {
     "name": "stdout",
     "output_type": "stream",
     "text": [
      "9\n"
     ]
    }
   ],
   "source": [
    "resultado = suma(7,2)\n",
    "print(resultado)"
   ]
  },
  {
   "cell_type": "code",
   "execution_count": 20,
   "metadata": {},
   "outputs": [],
   "source": [
    "#4. Crea una función que reciba dos números y una operación (suma, resta, multiplicación, división) \n",
    "# y devuelva el resultado\n",
    "def ingresar_datos(num1,num2,operacion):\n",
    "    \n",
    "    \n",
    "    \n",
    "    \n",
    "    if operacion == \"+\":\n",
    "        return num1 + num2\n",
    "    \n",
    "    elif operacion == \"-\":\n",
    "        return num1 - num2\n",
    "\n",
    "    elif operacion == \"*\":\n",
    "       return num1 * num2\n",
    "\n",
    "    elif operacion == \"/\":\n",
    "       return num1 / num2\n",
    "    else : \n",
    "        return \"operacion no valida\""
   ]
  },
  {
   "cell_type": "code",
   "execution_count": 23,
   "metadata": {},
   "outputs": [
    {
     "ename": "SyntaxError",
     "evalue": "iterable argument unpacking follows keyword argument unpacking (4184160076.py, line 1)",
     "output_type": "error",
     "traceback": [
      "\u001b[1;36m  Cell \u001b[1;32mIn[23], line 1\u001b[1;36m\u001b[0m\n\u001b[1;33m    ingresar_datos(5,2,*)\u001b[0m\n\u001b[1;37m                   ^\u001b[0m\n\u001b[1;31mSyntaxError\u001b[0m\u001b[1;31m:\u001b[0m iterable argument unpacking follows keyword argument unpacking\n"
     ]
    }
   ],
   "source": [
    "ingresar_datos(5,2,*)"
   ]
  },
  {
   "cell_type": "code",
   "execution_count": 27,
   "metadata": {},
   "outputs": [
    {
     "name": "stdout",
     "output_type": "stream",
     "text": [
      "seleccione una operacion \n",
      " suma,resta,multiplicacion ,division\n",
      "10\n"
     ]
    }
   ],
   "source": [
    "num1 = int(input(\"ingrese un numero\"))\n",
    "num2 = int(input(\"ingrese otro numero\"))\n",
    "print(\"seleccione una operacion \\n suma,resta,multiplicacion ,division\")\n",
    "operacion = input(\"elija una operacion\")\n",
    "resultado= ingresar_datos(num1,num2,operacion)\n",
    "print(resultado)\n",
    "\n"
   ]
  },
  {
   "cell_type": "code",
   "execution_count": null,
   "metadata": {},
   "outputs": [],
   "source": [
    "##5. Conversor de moneda: Crea una función que convierta de pesos a dólares, \n",
    "# que reciba como parámetro la cantidad de pesos y el valor del dólar y devuelva la cantidad de dólares.\n",
    "\n",
    "def conversor_moneda(num1.mum2,resultado)\n"
   ]
  },
  {
   "cell_type": "code",
   "execution_count": 28,
   "metadata": {},
   "outputs": [],
   "source": [
    "frutas =[\"naramja\",\"banana\",\"kiwi\",\"pera\"]\n",
    "def mi_lista(lista1):\n",
    "    for i in lista1:\n",
    "        print(i)\n",
    "\n",
    "        "
   ]
  },
  {
   "cell_type": "code",
   "execution_count": 29,
   "metadata": {},
   "outputs": [
    {
     "name": "stdout",
     "output_type": "stream",
     "text": [
      "naramja\n",
      "banana\n",
      "kiwi\n",
      "pera\n"
     ]
    }
   ],
   "source": [
    "mi_lista(frutas)"
   ]
  },
  {
   "cell_type": "markdown",
   "metadata": {},
   "source": [
    "Actividad N° 1 🤓 1. Crear una función llamada “usuario” que reciba como parámetro un nombre y devuelva un mensaje “Bienvenido al sistema {nombre}”. 2. llamar a la función “usuario” 3. Escribe una función que tome dos números como argumentos y devuelva su suma. 4. Crea una función que reciba dos números y una operación (suma, resta, multiplicación, división) y devuelva el resultado. 5. Conversor de moneda: Crea una función que convierta de pesos a dólares, que reciba como parámetro la cantidad de pesos y el valor del dólar y devuelva la cantidad de dólares. 6. Escribe una función que tome una lista de números como argumento y devuelva la suma de los números positivos y la suma de losnúmeros negativos en una tupla. 7. Crear una función que reciba un número como parámetro y devuelva True si es primo y False si no lo es. 8. Escribe una función que tome una lista de números como argumento y devuelva el número más grande y el número más pequeño en una tupla"
   ]
  },
  {
   "cell_type": "code",
   "execution_count": null,
   "metadata": {},
   "outputs": [],
   "source": []
  },
  {
   "cell_type": "code",
   "execution_count": null,
   "metadata": {},
   "outputs": [],
   "source": []
  }
 ],
 "metadata": {
  "kernelspec": {
   "display_name": "Python 3",
   "language": "python",
   "name": "python3"
  },
  "language_info": {
   "codemirror_mode": {
    "name": "ipython",
    "version": 3
   },
   "file_extension": ".py",
   "mimetype": "text/x-python",
   "name": "python",
   "nbconvert_exporter": "python",
   "pygments_lexer": "ipython3",
   "version": "3.11.5"
  }
 },
 "nbformat": 4,
 "nbformat_minor": 2
}
