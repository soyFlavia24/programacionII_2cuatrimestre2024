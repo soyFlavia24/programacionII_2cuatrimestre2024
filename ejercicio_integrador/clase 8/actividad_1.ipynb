{
 "cells": [
  {
   "cell_type": "markdown",
   "metadata": {},
   "source": [
    "Actividad N° 1 ◻ \n",
    "1. Crea la clase base \"Persona\" con los siguientes atributos: ○ nombre ○ edad Incluir un constructor que inicialice los atributos \n",
    "2. Crea la clase base \"Vehículo\" con los siguientes atributos: ○ marca ○ modelo Incluir un constructor que inicialice los atributos \n",
    "3. Crea la clase base \"Animal\" con los siguientes atributos: ○ nombre ○ edad ○ especie Incluir un constructor que inicialice los atributos \n",
    "4. Crea una clase \"Estudiante\" que herede de \"Persona\" y tenga un atributo adicional \"escuela\". Agrega métodos para imprimir la información del estudiante.\n",
    "5. Crea una clase \"Empleado\" que herede de \"Persona\" y tenga atributos adicionales como \"empresa\" y \"puesto\". Agrega métodos para imprimir la información del empleado.\n",
    " 6. Crea una clase \"Coche\" que herede de \"Vehículo\" y tenga atributos adicionales como \"color\" y \"velocidad\". Agrega métodos para imprimir la información del coche.\n",
    "  7. Crea una clase \"Perro\" que herede de \"Animal\" y tenga un atributo adicional \"raza\". Agrega métodos para imprimir la información del gato. \n",
    "  8. Crea una clase \"EstudianteUniversitario\" que herede de \"Estudiante\" y tenga atributos adicionales como \"carrera\" y \"semestre\". Agrega métodos para imprimir la información del estudiante universitario. \n",
    "  9. Crea una clase \"Camioneta\" que herede de \"Vehículo\" y tenga un atributo adicional \"capacidad_carga\". Agrega métodos para imprimir la información de la camioneta. \n",
    "  10. Crea una clase \"Profesor\" que herede de \"Empleado\" y tenga atributos adicionales como \"materia\" y \"experiencia\". Agrega métodos para imprimir la información del profesor.\n",
    "   11. Crea una clase \"Motocicleta\" que herede de \"Vehículo\" y tenga atributos adicionales como \"cilindrada\" y \"marca\". Agrega métodos para imprimir la información de la motocicleta. \n",
    "   12. Crea una clase \"Ave\" que herede de \"Animal\" y tenga atributos adicionales como \"especie\" y \"habitat\". Agrega métodos para imprimir la información del ave. \n",
    "   13. Crea una clase \"Cliente\" que herede de \"Persona\" y tengaatributos adicionales como \"direccion\" y \"telefono\". Agrega métodos para imprimir la información del cliente. \n",
    "   14. Crea una clase \"Bicicleta\" que herede de \"Vehículo\" y tenga atributos adicionales como \"tipo\""
   ]
  },
  {
   "cell_type": "code",
   "execution_count": 1,
   "metadata": {},
   "outputs": [],
   "source": [
    "#1. Crea la clase base \"Persona\" con los siguientes atributos: ○ nombre ○ edad \n",
    "#Incluir un constructor que inicialice los atributos \n",
    "\n",
    "#class Persona:\n",
    "   # pass ## palabra reservada pass para crear clase vacia\n",
    "\n"
   ]
  },
  {
   "cell_type": "code",
   "execution_count": 2,
   "metadata": {},
   "outputs": [
    {
     "name": "stdout",
     "output_type": "stream",
     "text": [
      "<__main__.Persona object at 0x000001EE564B1B10>\n"
     ]
    }
   ],
   "source": [
    "\n",
    "#f1 = Persona()\n",
    "#f2 = Persona()\n",
    "#instancio dos objetos de la clase Persona\n",
    "#print(f1)"
   ]
  },
  {
   "cell_type": "code",
   "execution_count": 7,
   "metadata": {},
   "outputs": [],
   "source": [
    "# metodo constructor de clases\n",
    "class Persona:\n",
    "    def __init__(self, nombre, edad, direccion):\n",
    "        self.nombre = nombre\n",
    "        self.edad = edad\n",
    "        self.direccion = direccion\n",
    "        "
   ]
  },
  {
   "cell_type": "code",
   "execution_count": 8,
   "metadata": {},
   "outputs": [
    {
     "name": "stdout",
     "output_type": "stream",
     "text": [
      "<__main__.Persona object at 0x000001EE56DD7710>\n"
     ]
    }
   ],
   "source": [
    "persona1 = Persona(\"Flavia\",47,\"Mariano Moreno\")\n",
    "print(persona1)"
   ]
  }
 ],
 "metadata": {
  "kernelspec": {
   "display_name": "Python 3",
   "language": "python",
   "name": "python3"
  },
  "language_info": {
   "codemirror_mode": {
    "name": "ipython",
    "version": 3
   },
   "file_extension": ".py",
   "mimetype": "text/x-python",
   "name": "python",
   "nbconvert_exporter": "python",
   "pygments_lexer": "ipython3",
   "version": "3.11.5"
  }
 },
 "nbformat": 4,
 "nbformat_minor": 2
}
