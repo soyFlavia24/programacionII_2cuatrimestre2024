{
 "cells": [
  {
   "cell_type": "markdown",
   "metadata": {},
   "source": [
    "Actividad N° 1\n",
    " ◻ 1. Crea la clase base \"Persona\" con los siguientes atributos: ○ nombre ○ edad Incluir un constructor que inicialice los atributos \n",
    " 2. Crea la clase base \"Vehículo\" con los siguientes atributos: ○ marca ○ modelo Incluir un constructor que inicialice los atributos \n",
    " 3. Crea la clase base \"Animal\" con los siguientes atributos: ○ nombre ○ edad ○ especie Incluir un constructor que inicialice los atributos \n",
    " 4. Crea una clase \"Estudiante\" que herede de \"Persona\" y tenga un atributo adicional \"escuela\". Agrega métodos para imprimir la información del estudiante.\n",
    " 5. Crea una clase \"Empleado\" que herede de \"Persona\" y tenga atributos adicionales como \"empresa\" y \"puesto\". Agrega métodos para imprimir la información del empleado.\n",
    "  6. Crea una clase \"Coche\" que herede de \"Vehículo\" y tenga atributos adicionales como \"color\" y \"velocidad\". Agrega métodos para imprimir la información del coche.\n",
    "   7. Crea una clase \"Perro\" que herede de \"Animal\" y tenga un atributo adicional \"raza\". Agrega métodos para imprimir la información del gato. \n",
    "   8. Crea una clase \"EstudianteUniversitario\" que herede de \"Estudiante\" y tenga atributos adicionales como \"carrera\" y \"semestre\". Agrega métodos para imprimir la información del estudiante universitario.\n",
    "    9. Crea una clase \"Camioneta\" que herede de \"Vehículo\" y tenga un atributo adicional \"capacidad_carga\". Agrega métodos para imprimir la información de la camioneta. \n",
    "    10. Crea una clase \"Profesor\" que herede de \"Empleado\" y tenga atributos adicionales como \"materia\" y \"experiencia\". Agrega métodos para imprimir la información del profesor. \n",
    "    11. Crea una clase \"Motocicleta\" que herede de \"Vehículo\" y tenga atributos adicionales como \"cilindrada\" y \"marca\". Agrega métodos para imprimir la información de la motocicleta.\n",
    "     12. Crea una clase \"Ave\" que herede de \"Animal\" y tenga atributos adicionales como \"especie\" y \"habitat\". Agrega métodos para imprimir la información del ave. \n",
    "     13. Crea una clase \"Cliente\" que herede de \"Persona\" y tengaatributos adicionales como \"direccion\" y \"telefono\". Agrega métodos para imprimir la información del cliente.\n",
    "      14. Crea una clase \"Bicicleta\" que herede de \"Vehículo\" y tenga atributos adicionales como \"tipo\""
   ]
  },
  {
   "cell_type": "code",
   "execution_count": null,
   "metadata": {},
   "outputs": [],
   "source": [
    "mi_variable=[\"hola,42\"]#al definir mi_variable \n",
    "                        #estoy creando una instancia de la clase list"
   ]
  },
  {
   "cell_type": "code",
   "execution_count": 1,
   "metadata": {},
   "outputs": [],
   "source": [
    " #1. Crea la clase base \"Persona\" con los \n",
    "# siguientes atributos: ○ nombre ○ edad Incluir un constructor que inicialice los atributos \n",
    "class Ejemplo:\n",
    "    pass \n",
    "    "
   ]
  },
  {
   "cell_type": "code",
   "execution_count": 2,
   "metadata": {},
   "outputs": [
    {
     "name": "stdout",
     "output_type": "stream",
     "text": [
      "<class '__main__.Ejemplo'>\n"
     ]
    }
   ],
   "source": [
    "#instanciamos dos objetos de la clase Ejemplo\n",
    "f1 = Ejemplo()\n",
    "f2 = Ejemplo()\n",
    "print(type(f1))\n"
   ]
  },
  {
   "cell_type": "markdown",
   "metadata": {},
   "source": [
    "#metodo constructor\n",
    "es una funcion especial que se ejecuta automaticamente cuando se crea o instancia un objeto de una clase \n",
    "En pythin ,el constructor es el metodo _init_\n",
    "Su funcion principak es inicializar los atributos del objeto recien creado,dandole valores iniciales"
   ]
  },
  {
   "cell_type": "code",
   "execution_count": 14,
   "metadata": {},
   "outputs": [],
   "source": [
    "class Coche:\n",
    "    def __init__(self,color,marca,modelo):#defino la estructura con el metodo constructor\n",
    "     self.color= color  #inicio los atributos,segun los parametros\n",
    "     self.marca= marca\n",
    "     self.modelo = modelo\n",
    "#metodo para mostrar la informacion del coche\n",
    "    def mostrar_info(self):\n",
    "        print(f\"color :{self.color} ,marca : {self.marca} , modelo: {self.modelo}\")"
   ]
  },
  {
   "cell_type": "code",
   "execution_count": 17,
   "metadata": {},
   "outputs": [],
   "source": [
    "#creo un objeto (instanciar)\n",
    "coche1 = Coche(\"rojo\",\"Toyota\",\"Corolla\")\n",
    "coche2 = Coche(\"gris\",\"Renault\",\"Koleos\")\n",
    "coche3 = Coche(\"azul\",\"Fiat\",\"Palio\")"
   ]
  },
  {
   "cell_type": "code",
   "execution_count": 16,
   "metadata": {},
   "outputs": [
    {
     "name": "stdout",
     "output_type": "stream",
     "text": [
      "color :rojo ,marca : Toyota , modelo: Corolla\n"
     ]
    }
   ],
   "source": [
    "#llamamos al metodo mostrar informacion\n",
    "coche1.mostrar_info()"
   ]
  },
  {
   "cell_type": "code",
   "execution_count": 18,
   "metadata": {},
   "outputs": [
    {
     "name": "stdout",
     "output_type": "stream",
     "text": [
      "rojo\n"
     ]
    }
   ],
   "source": [
    "print(coche1.color)"
   ]
  },
  {
   "cell_type": "code",
   "execution_count": 19,
   "metadata": {},
   "outputs": [
    {
     "data": {
      "text/plain": [
       "'Renault'"
      ]
     },
     "execution_count": 19,
     "metadata": {},
     "output_type": "execute_result"
    }
   ],
   "source": [
    "coche2.marca"
   ]
  },
  {
   "cell_type": "code",
   "execution_count": 20,
   "metadata": {},
   "outputs": [],
   "source": [
    "coche3.numero_rueda = 5"
   ]
  },
  {
   "cell_type": "code",
   "execution_count": 21,
   "metadata": {},
   "outputs": [
    {
     "data": {
      "text/plain": [
       "5"
      ]
     },
     "execution_count": 21,
     "metadata": {},
     "output_type": "execute_result"
    }
   ],
   "source": [
    "coche3.numero_rueda"
   ]
  },
  {
   "cell_type": "code",
   "execution_count": 23,
   "metadata": {},
   "outputs": [],
   "source": [
    "coche2.patente = \"hfl456\""
   ]
  },
  {
   "cell_type": "code",
   "execution_count": 24,
   "metadata": {},
   "outputs": [
    {
     "name": "stdout",
     "output_type": "stream",
     "text": [
      "Toyota\n",
      "5\n",
      "hfl456\n"
     ]
    }
   ],
   "source": [
    "print(coche1.marca)\n",
    "print(coche3.numero_rueda)\n",
    "print(coche2.patente)"
   ]
  },
  {
   "cell_type": "code",
   "execution_count": 25,
   "metadata": {},
   "outputs": [
    {
     "data": {
      "text/plain": [
       "mappingproxy({'__module__': '__main__',\n",
       "              '__init__': <function __main__.Coche.__init__(self, color, marca, modelo)>,\n",
       "              'mostrar_info': <function __main__.Coche.mostrar_info(self)>,\n",
       "              '__dict__': <attribute '__dict__' of 'Coche' objects>,\n",
       "              '__weakref__': <attribute '__weakref__' of 'Coche' objects>,\n",
       "              '__doc__': None})"
      ]
     },
     "execution_count": 25,
     "metadata": {},
     "output_type": "execute_result"
    }
   ],
   "source": [
    "vars(Coche)"
   ]
  },
  {
   "cell_type": "markdown",
   "metadata": {},
   "source": [
    "Actividad N° 1\n",
    " ◻ 1. Crea la clase base \"Persona\" con los siguientes atributos: ○ nombre ○ edad Incluir un constructor que inicialice los atributos \n",
    " 2. Crea la clase base \"Vehículo\" con los siguientes atributos: ○ marca ○ modelo Incluir un constructor que inicialice los atributos \n",
    " 3. Crea la clase base \"Animal\" con los siguientes atributos: ○ nombre ○ edad ○ especie Incluir un constructor que inicialice los atributos \n",
    " 4. Crea una clase \"Estudiante\" que herede de \"Persona\" y tenga un atributo adicional \"escuela\". Agrega métodos para imprimir la información del estudiante.\n",
    " 5. Crea una clase \"Empleado\" que herede de \"Persona\" y tenga atributos adicionales como \"empresa\" y \"puesto\". Agrega métodos para imprimir la información del empleado.\n",
    "  6. Crea una clase \"Coche\" que herede de \"Vehículo\" y tenga atributos adicionales como \"color\" y \"velocidad\". Agrega métodos para imprimir la información del coche.\n",
    "   7. Crea una clase \"Perro\" que herede de \"Animal\" y tenga un atributo adicional \"raza\". Agrega métodos para imprimir la información del gato. \n",
    "   8. Crea una clase \"EstudianteUniversitario\" que herede de \"Estudiante\" y tenga atributos adicionales como \"carrera\" y \"semestre\". Agrega métodos para imprimir la información del estudiante universitario.\n",
    "    9. Crea una clase \"Camioneta\" que herede de \"Vehículo\" y tenga un atributo adicional \"capacidad_carga\". Agrega métodos para imprimir la información de la camioneta. \n",
    "    10. Crea una clase \"Profesor\" que herede de \"Empleado\" y tenga atributos adicionales como \"materia\" y \"experiencia\". Agrega métodos para imprimir la información del profesor. \n",
    "    11. Crea una clase \"Motocicleta\" que herede de \"Vehículo\" y tenga atributos adicionales como \"cilindrada\" y \"marca\". Agrega métodos para imprimir la información de la motocicleta.\n",
    "     12. Crea una clase \"Ave\" que herede de \"Animal\" y tenga atributos adicionales como \"especie\" y \"habitat\". Agrega métodos para imprimir la información del ave. \n",
    "     13. Crea una clase \"Cliente\" que herede de \"Persona\" y tengaatributos adicionales como \"direccion\" y \"telefono\". Agrega métodos para imprimir la información del cliente.\n",
    "      14. Crea una clase \"Bicicleta\" que herede de \"Vehículo\" y tenga atributos adicionales como \"tipo\""
   ]
  },
  {
   "cell_type": "code",
   "execution_count": 26,
   "metadata": {},
   "outputs": [],
   "source": [
    "#1. Crea la clase base \"Persona\" con los siguientes \n",
    "# atributos: ○ nombre ○ edad Incluir un constructor que inicialice los atributos \n",
    "class Persona:\n",
    "    def __init__(self,nombre,edad):\n",
    "        self.nombre = nombre\n",
    "        self.edad = edad"
   ]
  },
  {
   "cell_type": "code",
   "execution_count": 31,
   "metadata": {},
   "outputs": [],
   "source": [
    "persona1 = Persona(\"Gonzalo\",44)\n",
    "persona2 = Persona(\"Gonzalo\",44)\n"
   ]
  },
  {
   "cell_type": "code",
   "execution_count": 33,
   "metadata": {},
   "outputs": [
    {
     "name": "stdout",
     "output_type": "stream",
     "text": [
      "el nombre de la persona es : Gonzalo y su edad es de : 44\n"
     ]
    }
   ],
   "source": [
    "print(f\"el nombre de la persona es : {persona1.nombre} y su edad es de : {persona1.edad}\")"
   ]
  },
  {
   "cell_type": "code",
   "execution_count": 2,
   "metadata": {},
   "outputs": [],
   "source": [
    "#2. Crea la clase base \"Vehículo\" con los siguientes atributos: ○ marca ○ modelo Incluir un constructor que inicialice los atributos\n",
    "\n",
    "class Vehiculo :\n",
    "    def __init__(self,marca,modelo):\n",
    "        self.marca = marca\n",
    "        self.modelo = modelo"
   ]
  },
  {
   "cell_type": "code",
   "execution_count": 29,
   "metadata": {},
   "outputs": [],
   "source": [
    "#3. Crea la clase base \"Animal\" con los siguientes atributos: ○ nombre ○ edad ○ especie Incluir un constructor que inicialice los atributos \n",
    "class Animal :\n",
    "    def __init__(self, nombre, edad, especie):\n",
    "        self.nombre = nombre\n",
    "        self.edad =edad\n",
    "        self.especie =especie"
   ]
  },
  {
   "cell_type": "code",
   "execution_count": 35,
   "metadata": {},
   "outputs": [
    {
     "name": "stdout",
     "output_type": "stream",
     "text": [
      "su nombre es Homero\n"
     ]
    }
   ],
   "source": [
    "animal1 = Animal(\"Homero\",12,\"perro\")\n",
    "animal2 = Animal(\"Luna\",2,\"gato\")\n",
    "print(f\"su nombre es {animal1.nombre}\")"
   ]
  },
  {
   "cell_type": "code",
   "execution_count": 3,
   "metadata": {},
   "outputs": [],
   "source": [
    "#4. Crea una clase \"Estudiante\" que herede de \"Persona\" y tenga un atributo adicional \"escuela\". Agrega métodos para imprimir la información del estudiante.\n",
    "\n",
    "class Persona:\n",
    "    def __init__(self,nombre):\n",
    "        self.nombre = nombre\n",
    "        \n",
    "        \n",
    "    def saludo(self):\n",
    "        print(f\"Hola mi nombre es : {self.nombre}.\")\n",
    "        \n",
    "        \n",
    "class Estudiante(Persona):\n",
    "    materia_cursada = \"Programacion II\"\n",
    "    def __init__(self,nombre,escuela):\n",
    "        super().__init__(nombre)\n",
    "        self.escuela = escuela\n",
    "    def mostrar_estudiante(self):\n",
    "        print(f\"Estoy estudiando\")       \n",
    "            \n",
    "            \n",
    "#5. Crea una clase \"Empleado\" que herede de \"Persona\" y \n",
    "# tenga atributos adicionales como \"empresa\" y \"puesto\". Agrega métodos para imprimir \n",
    "# la información del empleado.   \n",
    "class Empleado(Persona):\n",
    "    def __init__(self,nombre,empresa,puesto):\n",
    "        super().__init__(nombre)\n",
    "        self.empresa = empresa\n",
    "        self.puesto = puesto\n",
    "        \n",
    "    def mostrar_empleado(self):\n",
    "        print(f\"el nombre del empleado es: {self.nombre} ,trabaja en : {self.empresa} de :{self.puesto}\")\n",
    "    "
   ]
  },
  {
   "cell_type": "code",
   "execution_count": 8,
   "metadata": {},
   "outputs": [
    {
     "name": "stdout",
     "output_type": "stream",
     "text": [
      "Estoy estudiando\n",
      "Hola mi nombre es : Gonzalo.\n",
      "el nombre del empleado es: Juan ,trabaja en : Micro de :Tecnico\n"
     ]
    }
   ],
   "source": [
    "estudiante1 = Estudiante(\"Gonzalo\",\"politecnico\")\n",
    "estudiamte2 = Estudiante(\"Flavia\",\"politecnico\")\n",
    "estudiante1.nombre\n",
    "estudiante1.mostrar_estudiante()\n",
    "estudiante1.saludo()\n",
    "empleado1 = Empleado(\"Juan\",\"Micro\",\"Tecnico\")\n",
    "empleado1.mostrar_empleado()"
   ]
  },
  {
   "cell_type": "code",
   "execution_count": null,
   "metadata": {},
   "outputs": [],
   "source": [
    "#6. Crea una clase \"Coche\" que herede de \"Vehículo\" y tenga atributos adicionales como \"color\" y \"velocidad\". Agrega métodos para imprimir la información del coche.\n",
    "#   \n",
    "exec\n",
    "class Coche(Vehiculo):\n",
    "    def __init__(self,marca,modelo,color,velocidad):\n",
    "        super().__init__(marca,modelo)\n",
    "        \n",
    "        self.color = color\n",
    "        self.velocidad = velocidad\n",
    "    def mostrar_coche(self):\n",
    "        print(f\"el coche es :{self.marca},{self.modelo} de color  {self.color} y tiene una velocidad de {self.velocidad}\")"
   ]
  },
  {
   "cell_type": "code",
   "execution_count": 11,
   "metadata": {},
   "outputs": [
    {
     "name": "stdout",
     "output_type": "stream",
     "text": [
      "el coche es :toyota,etios de color  azul y tiene una velocidad de 1000\n"
     ]
    }
   ],
   "source": [
    "coche1 = Coche(\"toyota\",\"etios\",\"azul\",1000)\n",
    "coche1.mostrar_coche()\n"
   ]
  },
  {
   "cell_type": "code",
   "execution_count": 27,
   "metadata": {},
   "outputs": [],
   "source": [
    "#7. Crea una clase \"Perro\" que herede de \"Animal\" y tenga un atributo adicional \"raza\".\n",
    "#Agrega métodos para imprimir la información del gato. \n",
    "class Animal :\n",
    "    def __init__(self, nombre, edad, especie):\n",
    "        self.nombre = nombre\n",
    "        self.edad =edad\n",
    "        self.especie =especie\n",
    "    def info_animal(self):\n",
    "        print(f\"la especie :{self.especie}\")\n",
    "class Perro(Animal):\n",
    "    def __init__(self,nombre,edad,especie,raza):\n",
    "        super().__init__(nombre,edad,especie)\n",
    "        self.raza = raza\n",
    "        \n",
    "    def mostrar_perro(self):\n",
    "        super().info_animal()\n",
    "        print(f\"raza : {self.raza}\")    "
   ]
  },
  {
   "cell_type": "code",
   "execution_count": 28,
   "metadata": {},
   "outputs": [],
   "source": [
    "gato = Animal(\"Garfield\",10,\"mamiferos\")\n",
    "perro = Perro(\"firulais\",12,\"mamifero\",\"dogo\")"
   ]
  },
  {
   "cell_type": "code",
   "execution_count": 29,
   "metadata": {},
   "outputs": [
    {
     "name": "stdout",
     "output_type": "stream",
     "text": [
      "la especie :mamiferos\n",
      "la especie :mamifero\n",
      "raza : dogo\n"
     ]
    }
   ],
   "source": [
    "gato.info_animal()\n",
    "perro.mostrar_perro()"
   ]
  },
  {
   "cell_type": "code",
   "execution_count": 30,
   "metadata": {},
   "outputs": [
    {
     "name": "stdout",
     "output_type": "stream",
     "text": [
      "la especie :mamifero\n"
     ]
    }
   ],
   "source": [
    "perro.info_animal()"
   ]
  }
 ],
 "metadata": {
  "kernelspec": {
   "display_name": "Python 3",
   "language": "python",
   "name": "python3"
  },
  "language_info": {
   "codemirror_mode": {
    "name": "ipython",
    "version": 3
   },
   "file_extension": ".py",
   "mimetype": "text/x-python",
   "name": "python",
   "nbconvert_exporter": "python",
   "pygments_lexer": "ipython3",
   "version": "3.11.5"
  }
 },
 "nbformat": 4,
 "nbformat_minor": 2
}
